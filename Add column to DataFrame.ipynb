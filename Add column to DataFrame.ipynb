{
 "cells": [
  {
   "cell_type": "code",
   "execution_count": 1,
   "id": "87b3ae38-a43a-4883-a728-a11ad1e02a2c",
   "metadata": {},
   "outputs": [],
   "source": [
    "data = [('James','','Smith','1991-04-01','M',3000),\n",
    "  ('Michael','Rose','','2000-05-19','M',4000),\n",
    "  ('Robert','','Williams','1978-09-05','M',4000),\n",
    "  ('Maria','Anne','Jones','1967-12-01','F',4000),\n",
    "  ('Jen','Mary','Brown','1980-02-17','F',-1)\n",
    "]\n",
    "\n",
    "columns = [\"firstname\",\"middlename\",\"lastname\",\"dob\",\"gender\",\"salary\"]\n",
    "from pyspark.sql import SparkSession\n",
    "spark = SparkSession.builder.appName('SparkByExamples.com').getOrCreate()\n",
    "df = spark.createDataFrame(data=data, schema = columns)"
   ]
  },
  {
   "cell_type": "code",
   "execution_count": 2,
   "id": "1775fa83-e56c-4cf4-a8a2-8f71a2619780",
   "metadata": {},
   "outputs": [
    {
     "name": "stdout",
     "output_type": "stream",
     "text": [
      "root\n",
      " |-- firstname: string (nullable = true)\n",
      " |-- middlename: string (nullable = true)\n",
      " |-- lastname: string (nullable = true)\n",
      " |-- dob: string (nullable = true)\n",
      " |-- gender: string (nullable = true)\n",
      " |-- salary: long (nullable = true)\n",
      "\n"
     ]
    }
   ],
   "source": [
    "df.printSchema()"
   ]
  },
  {
   "cell_type": "code",
   "execution_count": 3,
   "id": "6e786527-d644-4360-a878-710022c741b3",
   "metadata": {},
   "outputs": [
    {
     "name": "stdout",
     "output_type": "stream",
     "text": [
      "+---------+----------+--------+----------+------+------+\n",
      "|firstname|middlename|lastname|       dob|gender|salary|\n",
      "+---------+----------+--------+----------+------+------+\n",
      "|    James|          |   Smith|1991-04-01|     M|  3000|\n",
      "|  Michael|      Rose|        |2000-05-19|     M|  4000|\n",
      "|   Robert|          |Williams|1978-09-05|     M|  4000|\n",
      "|    Maria|      Anne|   Jones|1967-12-01|     F|  4000|\n",
      "|      Jen|      Mary|   Brown|1980-02-17|     F|    -1|\n",
      "+---------+----------+--------+----------+------+------+\n",
      "\n"
     ]
    }
   ],
   "source": [
    "df.show()"
   ]
  },
  {
   "cell_type": "markdown",
   "id": "0d38be6a-b36e-4dfc-9f91-37d68c0c9622",
   "metadata": {},
   "source": [
    "## 1. Change DataType using PySpark withColumn()"
   ]
  },
  {
   "cell_type": "code",
   "execution_count": 7,
   "id": "a758d6c5-ecc9-4d20-8cdc-883a45f97806",
   "metadata": {},
   "outputs": [
    {
     "name": "stdout",
     "output_type": "stream",
     "text": [
      "root\n",
      " |-- firstname: string (nullable = true)\n",
      " |-- middlename: string (nullable = true)\n",
      " |-- lastname: string (nullable = true)\n",
      " |-- dob: string (nullable = true)\n",
      " |-- gender: string (nullable = true)\n",
      " |-- salary: string (nullable = true)\n",
      "\n"
     ]
    }
   ],
   "source": [
    "from pyspark.sql.functions import *\n",
    "df.withColumn(\"salary\",col(\"salary\").cast(\"String\")).printSchema()"
   ]
  },
  {
   "cell_type": "markdown",
   "id": "b665a2af-bada-4d0a-b505-263821526966",
   "metadata": {},
   "source": [
    "## 2. Create a Column from an Existing"
   ]
  },
  {
   "cell_type": "code",
   "execution_count": 8,
   "id": "495bee2b-5d49-440a-8f45-0cdc92dd84c0",
   "metadata": {},
   "outputs": [
    {
     "name": "stdout",
     "output_type": "stream",
     "text": [
      "+---------+----------+--------+----------+------+------+------------+\n",
      "|firstname|middlename|lastname|       dob|gender|salary|CopiedColumn|\n",
      "+---------+----------+--------+----------+------+------+------------+\n",
      "|    James|          |   Smith|1991-04-01|     M|  3000|       -3000|\n",
      "|  Michael|      Rose|        |2000-05-19|     M|  4000|       -4000|\n",
      "|   Robert|          |Williams|1978-09-05|     M|  4000|       -4000|\n",
      "|    Maria|      Anne|   Jones|1967-12-01|     F|  4000|       -4000|\n",
      "|      Jen|      Mary|   Brown|1980-02-17|     F|    -1|           1|\n",
      "+---------+----------+--------+----------+------+------+------------+\n",
      "\n"
     ]
    }
   ],
   "source": [
    "df.withColumn(\"CopiedColumn\",col(\"salary\")* -1).show()"
   ]
  },
  {
   "cell_type": "markdown",
   "id": "d05bd424-15d7-4575-b738-cde7e5cb8220",
   "metadata": {},
   "source": [
    "## 3.  Add Column Based on Another Column of DataFrame"
   ]
  },
  {
   "cell_type": "code",
   "execution_count": 10,
   "id": "c66d8de5-dec5-4b53-a3a4-a5d3834ef991",
   "metadata": {},
   "outputs": [
    {
     "name": "stdout",
     "output_type": "stream",
     "text": [
      "+---------+----------+--------+----------+------+------+---------------+\n",
      "|firstname|middlename|lastname|       dob|gender|salary|           name|\n",
      "+---------+----------+--------+----------+------+------+---------------+\n",
      "|    James|          |   Smith|1991-04-01|     M|  3000|    James Smith|\n",
      "|  Michael|      Rose|        |2000-05-19|     M|  4000|       Michael |\n",
      "|   Robert|          |Williams|1978-09-05|     M|  4000|Robert Williams|\n",
      "|    Maria|      Anne|   Jones|1967-12-01|     F|  4000|    Maria Jones|\n",
      "|      Jen|      Mary|   Brown|1980-02-17|     F|    -1|      Jen Brown|\n",
      "+---------+----------+--------+----------+------+------+---------------+\n",
      "\n"
     ]
    }
   ],
   "source": [
    "df.withColumn(\"name\", concat_ws(\" \",\"firstname\",\"lastname\")) \\\n",
    "  .show()"
   ]
  },
  {
   "cell_type": "markdown",
   "id": "7e0b496c-eb32-4643-a49e-dbff4cd59899",
   "metadata": {},
   "source": [
    "## 4. Add New Column with Constant Value"
   ]
  },
  {
   "cell_type": "code",
   "execution_count": 11,
   "id": "38f34832-9caf-4004-95df-738f40391108",
   "metadata": {},
   "outputs": [
    {
     "name": "stdout",
     "output_type": "stream",
     "text": [
      "+---------+----------+--------+----------+------+------+-------------+\n",
      "|firstname|middlename|lastname|       dob|gender|salary|bonus_percent|\n",
      "+---------+----------+--------+----------+------+------+-------------+\n",
      "|    James|          |   Smith|1991-04-01|     M|  3000|          0.3|\n",
      "|  Michael|      Rose|        |2000-05-19|     M|  4000|          0.3|\n",
      "|   Robert|          |Williams|1978-09-05|     M|  4000|          0.3|\n",
      "|    Maria|      Anne|   Jones|1967-12-01|     F|  4000|          0.3|\n",
      "|      Jen|      Mary|   Brown|1980-02-17|     F|    -1|          0.3|\n",
      "+---------+----------+--------+----------+------+------+-------------+\n",
      "\n"
     ]
    }
   ],
   "source": [
    "# here lit sunction is used to create a constant values\n",
    "from pyspark.sql.functions import lit\n",
    "df.withColumn(\"bonus_percent\", lit(0.3)) \\\n",
    "  .show()\n"
   ]
  },
  {
   "cell_type": "code",
   "execution_count": 12,
   "id": "3c55e4ff-c2bc-49fe-973d-56a8d7abc0e0",
   "metadata": {},
   "outputs": [
    {
     "name": "stdout",
     "output_type": "stream",
     "text": [
      "+---------+----------+--------+----------+------+------+-----------+\n",
      "|firstname|middlename|lastname|       dob|gender|salary|DEFAULT_COL|\n",
      "+---------+----------+--------+----------+------+------+-----------+\n",
      "|    James|          |   Smith|1991-04-01|     M|  3000|       NULL|\n",
      "|  Michael|      Rose|        |2000-05-19|     M|  4000|       NULL|\n",
      "|   Robert|          |Williams|1978-09-05|     M|  4000|       NULL|\n",
      "|    Maria|      Anne|   Jones|1967-12-01|     F|  4000|       NULL|\n",
      "|      Jen|      Mary|   Brown|1980-02-17|     F|    -1|       NULL|\n",
      "+---------+----------+--------+----------+------+------+-----------+\n",
      "\n"
     ]
    }
   ],
   "source": [
    "# Add New column with NULL\n",
    "df.withColumn(\"DEFAULT_COL\", lit(None)) \\\n",
    "  .show()"
   ]
  },
  {
   "cell_type": "markdown",
   "id": "c7e8745d-1688-4093-b9c7-5004e4ca8bb7",
   "metadata": {},
   "source": [
    "## 5. Add Column Value Based on Condition"
   ]
  },
  {
   "cell_type": "code",
   "execution_count": 13,
   "id": "7bce6200-e807-4aec-bac7-66cf51bfea9a",
   "metadata": {},
   "outputs": [
    {
     "name": "stdout",
     "output_type": "stream",
     "text": [
      "+---------+----------+--------+----------+------+------+-----+\n",
      "|firstname|middlename|lastname|       dob|gender|salary|grade|\n",
      "+---------+----------+--------+----------+------+------+-----+\n",
      "|    James|          |   Smith|1991-04-01|     M|  3000|    A|\n",
      "|  Michael|      Rose|        |2000-05-19|     M|  4000|    B|\n",
      "|   Robert|          |Williams|1978-09-05|     M|  4000|    B|\n",
      "|    Maria|      Anne|   Jones|1967-12-01|     F|  4000|    B|\n",
      "|      Jen|      Mary|   Brown|1980-02-17|     F|    -1|    A|\n",
      "+---------+----------+--------+----------+------+------+-----+\n",
      "\n"
     ]
    }
   ],
   "source": [
    "# Add Column using when otherwise condition\n",
    "from pyspark.sql.functions import when\n",
    "df.withColumn(\"grade\", \\\n",
    "   when((df.salary < 4000), lit(\"A\")) \\\n",
    "     .when((df.salary >= 4000) & (df.salary <= 5000), lit(\"B\")) \\\n",
    "     .otherwise(lit(\"C\")) \\\n",
    "  ).show()"
   ]
  },
  {
   "cell_type": "code",
   "execution_count": 14,
   "id": "c3fee7d5-e1a9-46bb-b0c3-060ebebc0929",
   "metadata": {},
   "outputs": [
    {
     "data": {
      "text/plain": [
       "['firstname', 'middlename', 'lastname', 'dob', 'gender', 'salary']"
      ]
     },
     "execution_count": 14,
     "metadata": {},
     "output_type": "execute_result"
    }
   ],
   "source": [
    "df.columns"
   ]
  },
  {
   "cell_type": "markdown",
   "id": "2238d8b5-7f94-4175-916f-f5527c451311",
   "metadata": {},
   "source": [
    "## 6. Add Column When not Exists on DataFrame"
   ]
  },
  {
   "cell_type": "code",
   "execution_count": 16,
   "id": "85349607-a497-4d9d-9307-abbe1d3b6b29",
   "metadata": {},
   "outputs": [
    {
     "name": "stdout",
     "output_type": "stream",
     "text": [
      "+---------+----------+--------+----------+------+------+-----+\n",
      "|firstname|middlename|lastname|       dob|gender|salary|dummy|\n",
      "+---------+----------+--------+----------+------+------+-----+\n",
      "|    James|          |   Smith|1991-04-01|     M|  3000| NULL|\n",
      "|  Michael|      Rose|        |2000-05-19|     M|  4000| NULL|\n",
      "|   Robert|          |Williams|1978-09-05|     M|  4000| NULL|\n",
      "|    Maria|      Anne|   Jones|1967-12-01|     F|  4000| NULL|\n",
      "|      Jen|      Mary|   Brown|1980-02-17|     F|    -1| NULL|\n",
      "+---------+----------+--------+----------+------+------+-----+\n",
      "\n"
     ]
    }
   ],
   "source": [
    "# By using the if condition checks whether the column is present in DataFrame or not.\n",
    "#If a column is not present add a new column to the DataFrame.\n",
    "if \"dummy\" not in df.columns:\n",
    "    df1 = df.withColumn(\"dummy\",lit(None))\n",
    "df1.show()"
   ]
  },
  {
   "cell_type": "markdown",
   "id": "42b5d153-ae38-4db0-a6d1-eee19bfdd360",
   "metadata": {},
   "source": [
    "## 7. Add Column to DataFrame using select()"
   ]
  },
  {
   "cell_type": "code",
   "execution_count": 19,
   "id": "ceffc3f1-fe9e-475d-b828-68c86743189f",
   "metadata": {},
   "outputs": [
    {
     "name": "stdout",
     "output_type": "stream",
     "text": [
      "+---------+------+-----+\n",
      "|firstname|salary|bonas|\n",
      "+---------+------+-----+\n",
      "|    James|  3000|  0.3|\n",
      "|  Michael|  4000|  0.3|\n",
      "|   Robert|  4000|  0.3|\n",
      "|    Maria|  4000|  0.3|\n",
      "|      Jen|    -1|  0.3|\n",
      "+---------+------+-----+\n",
      "\n"
     ]
    }
   ],
   "source": [
    "df.select(\"firstname\",\"salary\",lit(0.3).alias(\"bonas\")).show()"
   ]
  },
  {
   "cell_type": "code",
   "execution_count": 22,
   "id": "537ceb63-7ee7-4d04-a52d-b046fbb70bae",
   "metadata": {
    "scrolled": true
   },
   "outputs": [
    {
     "name": "stdout",
     "output_type": "stream",
     "text": [
      "+---------+------+----------+\n",
      "|firstname|salary|      Date|\n",
      "+---------+------+----------+\n",
      "|    James|  3000|2024-05-16|\n",
      "|  Michael|  4000|2024-05-16|\n",
      "|   Robert|  4000|2024-05-16|\n",
      "|    Maria|  4000|2024-05-16|\n",
      "|      Jen|    -1|2024-05-16|\n",
      "+---------+------+----------+\n",
      "\n"
     ]
    }
   ],
   "source": [
    "df.select(\"firstname\",\"salary\",current_date().alias(\"Date\")).show()\n"
   ]
  },
  {
   "cell_type": "code",
   "execution_count": 1,
   "id": "c791d727-57ed-4ddf-82b0-1ec19fcdc444",
   "metadata": {},
   "outputs": [
    {
     "name": "stdout",
     "output_type": "stream",
     "text": [
      "root\n",
      " |-- firstname: string (nullable = true)\n",
      " |-- middlename: string (nullable = true)\n",
      " |-- lastname: string (nullable = true)\n",
      " |-- dob: string (nullable = true)\n",
      " |-- gender: string (nullable = true)\n",
      " |-- salary: long (nullable = true)\n",
      "\n",
      "+---------+----------+--------+----------+------+------+\n",
      "|firstname|middlename|lastname|dob       |gender|salary|\n",
      "+---------+----------+--------+----------+------+------+\n",
      "|James    |          |Smith   |1991-04-01|M     |3000  |\n",
      "|Michael  |Rose      |        |2000-05-19|M     |4000  |\n",
      "|Robert   |          |Williams|1978-09-05|M     |4000  |\n",
      "|Maria    |Anne      |Jones   |1967-12-01|F     |4000  |\n",
      "|Jen      |Mary      |Brown   |1980-02-17|F     |-1    |\n",
      "+---------+----------+--------+----------+------+------+\n",
      "\n",
      "root\n",
      " |-- firstname: string (nullable = true)\n",
      " |-- middlename: string (nullable = true)\n",
      " |-- lastname: string (nullable = true)\n",
      " |-- dob: string (nullable = true)\n",
      " |-- gender: string (nullable = true)\n",
      " |-- salary: integer (nullable = true)\n",
      "\n",
      "+---------+----------+--------+----------+------+------+\n",
      "|firstname|middlename|lastname|dob       |gender|salary|\n",
      "+---------+----------+--------+----------+------+------+\n",
      "|James    |          |Smith   |1991-04-01|M     |3000  |\n",
      "|Michael  |Rose      |        |2000-05-19|M     |4000  |\n",
      "|Robert   |          |Williams|1978-09-05|M     |4000  |\n",
      "|Maria    |Anne      |Jones   |1967-12-01|F     |4000  |\n",
      "|Jen      |Mary      |Brown   |1980-02-17|F     |-1    |\n",
      "+---------+----------+--------+----------+------+------+\n",
      "\n",
      "root\n",
      " |-- firstname: string (nullable = true)\n",
      " |-- middlename: string (nullable = true)\n",
      " |-- lastname: string (nullable = true)\n",
      " |-- dob: string (nullable = true)\n",
      " |-- gender: string (nullable = true)\n",
      " |-- salary: long (nullable = true)\n",
      "\n",
      "+---------+----------+--------+----------+------+------+\n",
      "|firstname|middlename|lastname|dob       |gender|salary|\n",
      "+---------+----------+--------+----------+------+------+\n",
      "|James    |          |Smith   |1991-04-01|M     |300000|\n",
      "|Michael  |Rose      |        |2000-05-19|M     |400000|\n",
      "|Robert   |          |Williams|1978-09-05|M     |400000|\n",
      "|Maria    |Anne      |Jones   |1967-12-01|F     |400000|\n",
      "|Jen      |Mary      |Brown   |1980-02-17|F     |-100  |\n",
      "+---------+----------+--------+----------+------+------+\n",
      "\n",
      "root\n",
      " |-- firstname: string (nullable = true)\n",
      " |-- middlename: string (nullable = true)\n",
      " |-- lastname: string (nullable = true)\n",
      " |-- dob: string (nullable = true)\n",
      " |-- gender: string (nullable = true)\n",
      " |-- salary: long (nullable = true)\n",
      " |-- CopiedColumn: long (nullable = true)\n",
      "\n",
      "root\n",
      " |-- firstname: string (nullable = true)\n",
      " |-- middlename: string (nullable = true)\n",
      " |-- lastname: string (nullable = true)\n",
      " |-- dob: string (nullable = true)\n",
      " |-- gender: string (nullable = true)\n",
      " |-- salary: long (nullable = true)\n",
      " |-- Country: string (nullable = false)\n",
      "\n",
      "root\n",
      " |-- firstname: string (nullable = true)\n",
      " |-- middlename: string (nullable = true)\n",
      " |-- lastname: string (nullable = true)\n",
      " |-- dob: string (nullable = true)\n",
      " |-- gender: string (nullable = true)\n",
      " |-- salary: long (nullable = true)\n",
      " |-- Country: string (nullable = false)\n",
      " |-- anotherColumn: string (nullable = false)\n",
      "\n",
      "+---------+----------+--------+----------+---+------+\n",
      "|firstname|middlename|lastname|dob       |sex|salary|\n",
      "+---------+----------+--------+----------+---+------+\n",
      "|James    |          |Smith   |1991-04-01|M  |3000  |\n",
      "|Michael  |Rose      |        |2000-05-19|M  |4000  |\n",
      "|Robert   |          |Williams|1978-09-05|M  |4000  |\n",
      "|Maria    |Anne      |Jones   |1967-12-01|F  |4000  |\n",
      "|Jen      |Mary      |Brown   |1980-02-17|F  |-1    |\n",
      "+---------+----------+--------+----------+---+------+\n",
      "\n",
      "+---------+----------+--------+----------+------+------+\n",
      "|firstname|middlename|lastname|dob       |gender|salary|\n",
      "+---------+----------+--------+----------+------+------+\n",
      "|James    |          |Smith   |1991-04-01|M     |3000  |\n",
      "|Michael  |Rose      |        |2000-05-19|M     |4000  |\n",
      "|Robert   |          |Williams|1978-09-05|M     |4000  |\n",
      "|Maria    |Anne      |Jones   |1967-12-01|F     |4000  |\n",
      "|Jen      |Mary      |Brown   |1980-02-17|F     |-1    |\n",
      "+---------+----------+--------+----------+------+------+\n",
      "\n"
     ]
    }
   ],
   "source": [
    "import pyspark\n",
    "from pyspark.sql import SparkSession\n",
    "from pyspark.sql.functions import col, lit\n",
    "from pyspark.sql.types import StructType, StructField, StringType,IntegerType\n",
    "\n",
    "spark = SparkSession.builder.appName('SparkByExamples.com').getOrCreate()\n",
    "\n",
    "data = [('James','','Smith','1991-04-01','M',3000),\n",
    "  ('Michael','Rose','','2000-05-19','M',4000),\n",
    "  ('Robert','','Williams','1978-09-05','M',4000),\n",
    "  ('Maria','Anne','Jones','1967-12-01','F',4000),\n",
    "  ('Jen','Mary','Brown','1980-02-17','F',-1)\n",
    "]\n",
    "\n",
    "columns = [\"firstname\",\"middlename\",\"lastname\",\"dob\",\"gender\",\"salary\"]\n",
    "df = spark.createDataFrame(data=data, schema = columns)\n",
    "df.printSchema()\n",
    "df.show(truncate=False)\n",
    "\n",
    "df2 = df.withColumn(\"salary\",col(\"salary\").cast(\"Integer\"))\n",
    "df2.printSchema()\n",
    "df2.show(truncate=False)\n",
    "\n",
    "df3 = df.withColumn(\"salary\",col(\"salary\")*100)\n",
    "df3.printSchema()\n",
    "df3.show(truncate=False) \n",
    "\n",
    "df4 = df.withColumn(\"CopiedColumn\",col(\"salary\")* -1)\n",
    "df4.printSchema()\n",
    "\n",
    "df5 = df.withColumn(\"Country\", lit(\"USA\"))\n",
    "df5.printSchema()\n",
    "\n",
    "df6 = df.withColumn(\"Country\", lit(\"USA\")) \\\n",
    "   .withColumn(\"anotherColumn\",lit(\"anotherValue\"))\n",
    "df6.printSchema()\n",
    "\n",
    "df.withColumnRenamed(\"gender\",\"sex\") \\\n",
    "  .show(truncate=False) \n",
    "  \n",
    "df4.drop(\"CopiedColumn\") \\\n",
    ".show(truncate=False) "
   ]
  },
  {
   "cell_type": "markdown",
   "id": "32d80249-d2f5-4a32-9dc1-dc9dcbff4243",
   "metadata": {},
   "source": [
    "## \n",
    "8  Add Column to DataFrame using SQL Expressionon"
   ]
  },
  {
   "cell_type": "code",
   "execution_count": null,
   "id": "c76cbe61-1317-48fa-8eff-14643dd05645",
   "metadata": {},
   "outputs": [],
   "source": []
  }
 ],
 "metadata": {
  "kernelspec": {
   "display_name": "Python 3 (ipykernel)",
   "language": "python",
   "name": "python3"
  },
  "language_info": {
   "codemirror_mode": {
    "name": "ipython",
    "version": 3
   },
   "file_extension": ".py",
   "mimetype": "text/x-python",
   "name": "python",
   "nbconvert_exporter": "python",
   "pygments_lexer": "ipython3",
   "version": "3.11.5"
  }
 },
 "nbformat": 4,
 "nbformat_minor": 5
}
