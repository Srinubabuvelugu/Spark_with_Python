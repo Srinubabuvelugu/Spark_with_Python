{
 "cells": [
  {
   "cell_type": "markdown",
   "id": "0dc77f35-6994-4e91-9fee-dcdb5ca91902",
   "metadata": {},
   "source": [
    "## Pyspark Functions\n",
    "1. array_contains\n",
    "2. split\n",
    "3. cast\n",
    "4. explode\n",
    "5. map_keys\n",
    "6. map values\n",
    "7. when-otherwise\n",
    "8. alis\n",
    "9. asc\n",
    "10. desc\n",
    "11. like"
   ]
  },
  {
   "cell_type": "code",
   "execution_count": 1,
   "id": "890cf270-8d3d-4199-be3e-1b12600612ec",
   "metadata": {
    "scrolled": true
   },
   "outputs": [
    {
     "name": "stdout",
     "output_type": "stream",
     "text": [
      "root\n",
      " |-- name: string (nullable = true)\n",
      " |-- knownLanguages: array (nullable = true)\n",
      " |    |-- element: string (containsNull = true)\n",
      " |-- properties: map (nullable = true)\n",
      " |    |-- key: string\n",
      " |    |-- value: string (valueContainsNull = true)\n",
      "\n",
      "+----------+-------------------+-----------------------------+\n",
      "|name      |knownLanguages     |properties                   |\n",
      "+----------+-------------------+-----------------------------+\n",
      "|James     |[Java, Scala]      |{eye -> brown, hair -> black}|\n",
      "|Michael   |[Spark, Java, NULL]|{eye -> NULL, hair -> brown} |\n",
      "|Robert    |[CSharp, ]         |{eye -> , hair -> red}       |\n",
      "|Washington|NULL               |NULL                         |\n",
      "|Jefferson |[1, 2]             |{}                           |\n",
      "+----------+-------------------+-----------------------------+\n",
      "\n"
     ]
    }
   ],
   "source": [
    "import pyspark\n",
    "from pyspark.sql import SparkSession\n",
    "spark = SparkSession.builder.appName('pyspark-by-examples').getOrCreate()\n",
    "\n",
    "arrayData = [\n",
    "        ('James',['Java','Scala'],{'hair':'black','eye':'brown'}),\n",
    "        ('Michael',['Spark','Java',None],{'hair':'brown','eye':None}),\n",
    "        ('Robert',['CSharp',''],{'hair':'red','eye':''}),\n",
    "        ('Washington',None,None),\n",
    "        ('Jefferson',['1','2'],{})]\n",
    "\n",
    "df = spark.createDataFrame(data=arrayData, schema = ['name','knownLanguages','properties'])\n",
    "df.printSchema()\n",
    "df.show(truncate=False)"
   ]
  },
  {
   "cell_type": "code",
   "execution_count": 2,
   "id": "d6f136ad-8b49-47f9-987a-2a99715835e7",
   "metadata": {},
   "outputs": [
    {
     "name": "stdout",
     "output_type": "stream",
     "text": [
      "root\n",
      " |-- name: string (nullable = true)\n",
      " |-- knownLanguages: array (nullable = true)\n",
      " |    |-- element: string (containsNull = true)\n",
      " |-- properties: map (nullable = true)\n",
      " |    |-- key: string\n",
      " |    |-- value: string (valueContainsNull = true)\n",
      " |-- Array_contains_java: boolean (nullable = true)\n",
      "\n",
      "None\n",
      "+----------+-------------------+-----------------------------+-------------------+\n",
      "|name      |knownLanguages     |properties                   |Array_contains_java|\n",
      "+----------+-------------------+-----------------------------+-------------------+\n",
      "|James     |[Java, Scala]      |{eye -> brown, hair -> black}|true               |\n",
      "|Michael   |[Spark, Java, NULL]|{eye -> NULL, hair -> brown} |true               |\n",
      "|Robert    |[CSharp, ]         |{eye -> , hair -> red}       |false              |\n",
      "|Washington|NULL               |NULL                         |NULL               |\n",
      "|Jefferson |[1, 2]             |{}                           |false              |\n",
      "+----------+-------------------+-----------------------------+-------------------+\n",
      "\n",
      "None\n"
     ]
    }
   ],
   "source": [
    "## syntax : array_contains(column_name, value) -> boolean type\n",
    "## array_contains check whether the value in the array or not, if present it returns 'true' else returns false\n",
    "from pyspark.sql.functions import *\n",
    "df1 = df.withColumn('Array_contains_java', array_contains(col('knownLanguages'),'Java'))\n",
    "print(df1.printSchema())\n",
    "print(df1.show(truncate=False))"
   ]
  },
  {
   "cell_type": "code",
   "execution_count": 3,
   "id": "3578dfc3-703c-4578-9802-30491a2b03d0",
   "metadata": {},
   "outputs": [
    {
     "name": "stdout",
     "output_type": "stream",
     "text": [
      "root\n",
      " |-- firstname: string (nullable = true)\n",
      " |-- middlename: string (nullable = true)\n",
      " |-- lastname: string (nullable = true)\n",
      " |-- dob: string (nullable = true)\n",
      "\n",
      "+---------+----------+--------+----------+\n",
      "|firstname|middlename|lastname|dob       |\n",
      "+---------+----------+--------+----------+\n",
      "|James    |          |Smith   |1991-04-01|\n",
      "|Michael  |Rose      |        |2000-05-19|\n",
      "|Robert   |          |Williams|1978-09-05|\n",
      "|Maria    |Anne      |Jones   |1967-12-01|\n",
      "|Jen      |Mary      |Brown   |1980-02-17|\n",
      "+---------+----------+--------+----------+\n",
      "\n"
     ]
    }
   ],
   "source": [
    "data=data = [('James','','Smith','1991-04-01'),\n",
    "  ('Michael','Rose','','2000-05-19'),\n",
    "  ('Robert','','Williams','1978-09-05'),\n",
    "  ('Maria','Anne','Jones','1967-12-01'),\n",
    "  ('Jen','Mary','Brown','1980-02-17')\n",
    "]\n",
    "\n",
    "columns=[\"firstname\",\"middlename\",\"lastname\",\"dob\"]\n",
    "df2=spark.createDataFrame(data,columns)\n",
    "df2.printSchema()\n",
    "df2.show(truncate=False)"
   ]
  },
  {
   "cell_type": "code",
   "execution_count": 4,
   "id": "c1425558-5026-442d-ae0b-cfe5174cde87",
   "metadata": {},
   "outputs": [
    {
     "name": "stdout",
     "output_type": "stream",
     "text": [
      "root\n",
      " |-- firstname: string (nullable = true)\n",
      " |-- middlename: string (nullable = true)\n",
      " |-- lastname: string (nullable = true)\n",
      " |-- dob: string (nullable = true)\n",
      " |-- split_dob: array (nullable = true)\n",
      " |    |-- element: string (containsNull = false)\n",
      " |-- year: string (nullable = true)\n",
      " |-- month: string (nullable = true)\n",
      " |-- day: string (nullable = true)\n",
      "\n",
      "+---------+----------+--------+----------+--------------+----+-----+---+\n",
      "|firstname|middlename|lastname|dob       |split_dob     |year|month|day|\n",
      "+---------+----------+--------+----------+--------------+----+-----+---+\n",
      "|James    |          |Smith   |1991-04-01|[1991, 04, 01]|1991|04   |01 |\n",
      "|Michael  |Rose      |        |2000-05-19|[2000, 05, 19]|2000|05   |19 |\n",
      "|Robert   |          |Williams|1978-09-05|[1978, 09, 05]|1978|09   |05 |\n",
      "|Maria    |Anne      |Jones   |1967-12-01|[1967, 12, 01]|1967|12   |01 |\n",
      "|Jen      |Mary      |Brown   |1980-02-17|[1980, 02, 17]|1980|02   |17 |\n",
      "+---------+----------+--------+----------+--------------+----+-----+---+\n",
      "\n"
     ]
    }
   ],
   "source": [
    "## syntax: split(column_name, sep_value) -> array\n",
    "# \n",
    "df3 = df2.withColumn('split_dob',split(col('dob'),'-')) \\\n",
    "        .withColumn('year',split(col('dob'),'-').getItem(0)) \\\n",
    "        .withColumn('month',split(col('dob'),'-')[1]) \\\n",
    "        .withColumn('day',split(col('dob'),'-').getItem(2))\n",
    "df3.printSchema()\n",
    "df3.show(truncate=False)"
   ]
  },
  {
   "cell_type": "code",
   "execution_count": 5,
   "id": "1215685c-2b26-4c62-bbfd-059132ebc186",
   "metadata": {},
   "outputs": [
    {
     "name": "stdout",
     "output_type": "stream",
     "text": [
      "root\n",
      " |-- firstname: string (nullable = true)\n",
      " |-- middlename: string (nullable = true)\n",
      " |-- lastname: string (nullable = true)\n",
      " |-- dob: string (nullable = true)\n",
      " |-- split_dob: array (nullable = true)\n",
      " |    |-- element: string (containsNull = false)\n",
      " |-- year: integer (nullable = true)\n",
      " |-- month: integer (nullable = true)\n",
      " |-- day: integer (nullable = true)\n",
      "\n"
     ]
    }
   ],
   "source": [
    "## syntax: column_name.cast(data_type)\n",
    "df4 = df3.withColumn('year',col('year').cast('integer')) \\\n",
    "        .withColumn('month',col('month').cast('integer')) \\\n",
    "        .withColumn('day',col('day').cast('Integer'))\n",
    "df4.printSchema()\n"
   ]
  },
  {
   "cell_type": "code",
   "execution_count": 6,
   "id": "411cd72e-3fcd-4488-87fb-f992cfe51cf9",
   "metadata": {},
   "outputs": [
    {
     "name": "stdout",
     "output_type": "stream",
     "text": [
      "+---------+-----------------------------+------+\n",
      "|name     |properties                   |col   |\n",
      "+---------+-----------------------------+------+\n",
      "|James    |{eye -> brown, hair -> black}|Java  |\n",
      "|James    |{eye -> brown, hair -> black}|Scala |\n",
      "|Michael  |{eye -> NULL, hair -> brown} |Spark |\n",
      "|Michael  |{eye -> NULL, hair -> brown} |Java  |\n",
      "|Michael  |{eye -> NULL, hair -> brown} |NULL  |\n",
      "|Robert   |{eye -> , hair -> red}       |CSharp|\n",
      "|Robert   |{eye -> , hair -> red}       |      |\n",
      "|Jefferson|{}                           |1     |\n",
      "|Jefferson|{}                           |2     |\n",
      "+---------+-----------------------------+------+\n",
      "\n"
     ]
    }
   ],
   "source": [
    "## 4. explode\n",
    "df4 = df.select('name','properties', explode('knownLanguages'))\n",
    "df4.show(truncate =False)"
   ]
  },
  {
   "cell_type": "code",
   "execution_count": 7,
   "id": "87f96927-a954-488a-a727-d73b3e3f2b08",
   "metadata": {},
   "outputs": [
    {
     "name": "stdout",
     "output_type": "stream",
     "text": [
      "+----------+-------------------+-----------------------------+-----------+\n",
      "|name      |knownLanguages     |properties                   |keys       |\n",
      "+----------+-------------------+-----------------------------+-----------+\n",
      "|James     |[Java, Scala]      |{eye -> brown, hair -> black}|[eye, hair]|\n",
      "|Michael   |[Spark, Java, NULL]|{eye -> NULL, hair -> brown} |[eye, hair]|\n",
      "|Robert    |[CSharp, ]         |{eye -> , hair -> red}       |[eye, hair]|\n",
      "|Washington|NULL               |NULL                         |NULL       |\n",
      "|Jefferson |[1, 2]             |{}                           |[]         |\n",
      "+----------+-------------------+-----------------------------+-----------+\n",
      "\n"
     ]
    }
   ],
   "source": [
    "## 5. map_keys function it returns the whole keys as array\n",
    "df5 = df.withColumn('keys',map_keys('properties'))\n",
    "df5.show(truncate=False)"
   ]
  },
  {
   "cell_type": "code",
   "execution_count": 8,
   "id": "a3351431-62e6-43a5-94f3-7929b988b465",
   "metadata": {},
   "outputs": [
    {
     "name": "stdout",
     "output_type": "stream",
     "text": [
      "+----------+-------------------+-----------------------------+--------------+\n",
      "|name      |knownLanguages     |properties                   |values        |\n",
      "+----------+-------------------+-----------------------------+--------------+\n",
      "|James     |[Java, Scala]      |{eye -> brown, hair -> black}|[brown, black]|\n",
      "|Michael   |[Spark, Java, NULL]|{eye -> NULL, hair -> brown} |[NULL, brown] |\n",
      "|Robert    |[CSharp, ]         |{eye -> , hair -> red}       |[, red]       |\n",
      "|Washington|NULL               |NULL                         |NULL          |\n",
      "|Jefferson |[1, 2]             |{}                           |[]            |\n",
      "+----------+-------------------+-----------------------------+--------------+\n",
      "\n"
     ]
    }
   ],
   "source": [
    "## 6. map_values function it returns the whole values as array\n",
    "df6 = df.withColumn('values',map_values('properties'))\n",
    "df6.show(truncate=False)"
   ]
  },
  {
   "cell_type": "code",
   "execution_count": 10,
   "id": "f245f02e-f264-40d7-9161-03dc20940647",
   "metadata": {},
   "outputs": [
    {
     "name": "stdout",
     "output_type": "stream",
     "text": [
      "+----------+-------------------+-----------------------------+-------------+\n",
      "|name      |knownLanguages     |properties                   |java_contains|\n",
      "+----------+-------------------+-----------------------------+-------------+\n",
      "|James     |[Java, Scala]      |{eye -> brown, hair -> black}|True         |\n",
      "|Michael   |[Spark, Java, NULL]|{eye -> NULL, hair -> brown} |True         |\n",
      "|Robert    |[CSharp, ]         |{eye -> , hair -> red}       |False        |\n",
      "|Washington|NULL               |NULL                         |False        |\n",
      "|Jefferson |[1, 2]             |{}                           |False        |\n",
      "+----------+-------------------+-----------------------------+-------------+\n",
      "\n"
     ]
    }
   ],
   "source": [
    "## 7. when-otherwise\n",
    "df7 = df.withColumn('java_contains',when(array_contains(df.knownLanguages,'Java'),\"True\") \\\n",
    "                                    .otherwise(\"False\"))\n",
    "df7.show(truncate= False)"
   ]
  },
  {
   "cell_type": "code",
   "execution_count": 15,
   "id": "041328ef-d7f0-4583-969d-0e340c71f87a",
   "metadata": {},
   "outputs": [
    {
     "name": "stdout",
     "output_type": "stream",
     "text": [
      "+----------+-------------------+---------+\n",
      "|name      |knownLanguages     |java_know|\n",
      "+----------+-------------------+---------+\n",
      "|James     |[Java, Scala]      |True     |\n",
      "|Michael   |[Spark, Java, NULL]|True     |\n",
      "|Robert    |[CSharp, ]         |False    |\n",
      "|Washington|NULL               |False    |\n",
      "|Jefferson |[1, 2]             |False    |\n",
      "+----------+-------------------+---------+\n",
      "\n"
     ]
    }
   ],
   "source": [
    "## 8. alias - change the column names\n",
    "df8 = df7.select('name','knownLanguages',df7.java_contains.alias('java_know'))\n",
    "df8.show(truncate=False)"
   ]
  },
  {
   "cell_type": "code",
   "execution_count": 16,
   "id": "4512bae8-3938-470e-9012-cec72f492c9d",
   "metadata": {},
   "outputs": [],
   "source": [
    "data = [('James','','Smith','1991-04-01','M',3000),\n",
    "  ('Michael','Rose','','2000-05-19','M',4000),\n",
    "  ('Robert','','Williams','1978-09-05','M',4000),\n",
    "  ('Maria','Anne','Jones','1967-12-01','F',4000),\n",
    "  ('Jen','Mary','Brown','1980-02-17','F',-1)\n",
    "]\n",
    "\n",
    "columns = [\"firstname\",\"middlename\",\"lastname\",\"dob\",\"gender\",\"salary\"]\n",
    "\n",
    "df9 = spark.createDataFrame(data=data, schema = columns)"
   ]
  },
  {
   "cell_type": "code",
   "execution_count": 17,
   "id": "a3d89d32-c461-4537-903e-d8a327913645",
   "metadata": {},
   "outputs": [
    {
     "name": "stdout",
     "output_type": "stream",
     "text": [
      "+---------+----------+--------+----------+------+------+\n",
      "|firstname|middlename|lastname|dob       |gender|salary|\n",
      "+---------+----------+--------+----------+------+------+\n",
      "|James    |          |Smith   |1991-04-01|M     |3000  |\n",
      "|Michael  |Rose      |        |2000-05-19|M     |4000  |\n",
      "|Robert   |          |Williams|1978-09-05|M     |4000  |\n",
      "|Maria    |Anne      |Jones   |1967-12-01|F     |4000  |\n",
      "|Jen      |Mary      |Brown   |1980-02-17|F     |-1    |\n",
      "+---------+----------+--------+----------+------+------+\n",
      "\n"
     ]
    }
   ],
   "source": [
    "df9.show(truncate=False)"
   ]
  },
  {
   "cell_type": "code",
   "execution_count": 33,
   "id": "a2bb0138-15d1-4a24-960b-4488b2d0a0d2",
   "metadata": {},
   "outputs": [
    {
     "name": "stdout",
     "output_type": "stream",
     "text": [
      "+---------+----------+--------+----------+------+------+\n",
      "|firstname|middlename|lastname|       dob|gender|salary|\n",
      "+---------+----------+--------+----------+------+------+\n",
      "|      Jen|      Mary|   Brown|1980-02-17|     F|    -1|\n",
      "|    James|          |   Smith|1991-04-01|     M|  3000|\n",
      "|  Michael|      Rose|        |2000-05-19|     M|  4000|\n",
      "|   Robert|          |Williams|1978-09-05|     M|  4000|\n",
      "|    Maria|      Anne|   Jones|1967-12-01|     F|  4000|\n",
      "+---------+----------+--------+----------+------+------+\n",
      "\n"
     ]
    }
   ],
   "source": [
    "## 9. desc -decresing order\n",
    "df9.sort(df9.salary).show()"
   ]
  },
  {
   "cell_type": "code",
   "execution_count": 32,
   "id": "b63a2caa-ec45-494a-81af-7cac3d5415dd",
   "metadata": {},
   "outputs": [
    {
     "name": "stdout",
     "output_type": "stream",
     "text": [
      "+---------+----------+--------+----------+------+------+\n",
      "|firstname|middlename|lastname|       dob|gender|salary|\n",
      "+---------+----------+--------+----------+------+------+\n",
      "|      Jen|      Mary|   Brown|1980-02-17|     F|    -1|\n",
      "|    James|          |   Smith|1991-04-01|     M|  3000|\n",
      "|   Robert|          |Williams|1978-09-05|     M|  4000|\n",
      "|  Michael|      Rose|        |2000-05-19|     M|  4000|\n",
      "|    Maria|      Anne|   Jones|1967-12-01|     F|  4000|\n",
      "+---------+----------+--------+----------+------+------+\n",
      "\n"
     ]
    }
   ],
   "source": [
    "## 9. asc -decresing order\n",
    "df9.orderBy(df9.salary).show()"
   ]
  },
  {
   "cell_type": "code",
   "execution_count": 30,
   "id": "1c6b7b46-632a-4866-949b-f326bc881468",
   "metadata": {},
   "outputs": [
    {
     "name": "stdout",
     "output_type": "stream",
     "text": [
      "+---------+----------+--------+----------+------+------+\n",
      "|firstname|middlename|lastname|       dob|gender|salary|\n",
      "+---------+----------+--------+----------+------+------+\n",
      "|      Jen|      Mary|   Brown|1980-02-17|     F|    -1|\n",
      "|    James|          |   Smith|1991-04-01|     M|  3000|\n",
      "|   Robert|          |Williams|1978-09-05|     M|  4000|\n",
      "|    Maria|      Anne|   Jones|1967-12-01|     F|  4000|\n",
      "|  Michael|      Rose|        |2000-05-19|     M|  4000|\n",
      "+---------+----------+--------+----------+------+------+\n",
      "\n"
     ]
    }
   ],
   "source": [
    "## 9. asc -ascending order\n",
    "df9.sort(df9.salary.asc()).show()"
   ]
  },
  {
   "cell_type": "code",
   "execution_count": 38,
   "id": "e553368c-f7a6-47f2-bace-5a2143a5209b",
   "metadata": {},
   "outputs": [
    {
     "name": "stdout",
     "output_type": "stream",
     "text": [
      "+---------+----------+--------+----------+------+------+\n",
      "|firstname|middlename|lastname|       dob|gender|salary|\n",
      "+---------+----------+--------+----------+------+------+\n",
      "|   Robert|          |Williams|1978-09-05|     M|  4000|\n",
      "|  Michael|      Rose|        |2000-05-19|     M|  4000|\n",
      "|    Maria|      Anne|   Jones|1967-12-01|     F|  4000|\n",
      "|      Jen|      Mary|   Brown|1980-02-17|     F|    -1|\n",
      "|    James|          |   Smith|1991-04-01|     M|  3000|\n",
      "+---------+----------+--------+----------+------+------+\n",
      "\n"
     ]
    }
   ],
   "source": [
    "## 9. desc -decresing order\n",
    "df9.sort(df9.firstname.desc(),df9.salary.desc()).show()"
   ]
  },
  {
   "cell_type": "code",
   "execution_count": 39,
   "id": "f614582f-9a69-461f-be2d-42ffd9bedeb1",
   "metadata": {},
   "outputs": [
    {
     "name": "stdout",
     "output_type": "stream",
     "text": [
      "+---------+----------+--------+----------+------+------+\n",
      "|firstname|middlename|lastname|       dob|gender|salary|\n",
      "+---------+----------+--------+----------+------+------+\n",
      "|  Michael|      Rose|        |2000-05-19|     M|  4000|\n",
      "|    Maria|      Anne|   Jones|1967-12-01|     F|  4000|\n",
      "+---------+----------+--------+----------+------+------+\n",
      "\n"
     ]
    }
   ],
   "source": [
    "##11. like \n",
    "# Here filter the date that firstname starts with the letter 'M'\n",
    "df9.filter(df9.firstname.like('M%')).show()"
   ]
  },
  {
   "cell_type": "code",
   "execution_count": 40,
   "id": "e84085d1-4cc3-481e-92d2-7d0aa0507242",
   "metadata": {},
   "outputs": [
    {
     "name": "stdout",
     "output_type": "stream",
     "text": [
      "+---------+----------+--------+----------+------+------+\n",
      "|firstname|middlename|lastname|       dob|gender|salary|\n",
      "+---------+----------+--------+----------+------+------+\n",
      "|    James|          |   Smith|1991-04-01|     M|  3000|\n",
      "|  Michael|      Rose|        |2000-05-19|     M|  4000|\n",
      "|   Robert|          |Williams|1978-09-05|     M|  4000|\n",
      "+---------+----------+--------+----------+------+------+\n",
      "\n"
     ]
    }
   ],
   "source": [
    "# filter\n",
    "df9.filter(df9.gender == 'M').show()"
   ]
  },
  {
   "cell_type": "code",
   "execution_count": 41,
   "id": "f6d02b6a-3efe-4677-a967-8980922fff16",
   "metadata": {},
   "outputs": [
    {
     "name": "stdout",
     "output_type": "stream",
     "text": [
      "+---------+----------+--------+----------+------+------+\n",
      "|firstname|middlename|lastname|       dob|gender|salary|\n",
      "+---------+----------+--------+----------+------+------+\n",
      "|    James|          |   Smith|1991-04-01|     M|  3000|\n",
      "|  Michael|      Rose|        |2000-05-19|     M|  4000|\n",
      "|   Robert|          |Williams|1978-09-05|     M|  4000|\n",
      "+---------+----------+--------+----------+------+------+\n",
      "\n"
     ]
    }
   ],
   "source": [
    "#where\n",
    "df9.where(df9.gender == 'M').show()"
   ]
  },
  {
   "cell_type": "code",
   "execution_count": null,
   "id": "446bca86-73a2-4ff8-9bd8-5a603331722e",
   "metadata": {},
   "outputs": [],
   "source": []
  }
 ],
 "metadata": {
  "kernelspec": {
   "display_name": "Python 3 (ipykernel)",
   "language": "python",
   "name": "python3"
  },
  "language_info": {
   "codemirror_mode": {
    "name": "ipython",
    "version": 3
   },
   "file_extension": ".py",
   "mimetype": "text/x-python",
   "name": "python",
   "nbconvert_exporter": "python",
   "pygments_lexer": "ipython3",
   "version": "3.11.5"
  }
 },
 "nbformat": 4,
 "nbformat_minor": 5
}
