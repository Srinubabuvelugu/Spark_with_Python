{
 "cells": [
  {
   "cell_type": "code",
   "execution_count": 6,
   "id": "8d936ed6-0959-4a96-bc24-2dffaaec26e4",
   "metadata": {},
   "outputs": [],
   "source": [
    "from pyspark.sql import SparkSession\n",
    "spark = SparkSession.builder.appName(\"RDD_Actions.com\").getOrCreate()\n",
    "data = [(\"Z\", 1),(\"A\", 20),(\"B\", 30),(\"C\", 40),(\"B\", 30),(\"B\", 60)]\n",
    "inrdd = spark.sparkContext.parallelize(data)\n",
    "listrdd = spark.sparkContext.parallelize([1,3,4,5,6,7,8,9])"
   ]
  },
  {
   "cell_type": "code",
   "execution_count": 7,
   "id": "60aa25bc-fbd0-4738-bdf5-0979e0bdbebc",
   "metadata": {},
   "outputs": [
    {
     "data": {
      "text/plain": [
       "[('Z', 1), ('A', 20), ('B', 30), ('C', 40), ('B', 30), ('B', 60)]"
      ]
     },
     "execution_count": 7,
     "metadata": {},
     "output_type": "execute_result"
    }
   ],
   "source": [
    "inrdd.collect()"
   ]
  },
  {
   "cell_type": "code",
   "execution_count": 8,
   "id": "9fa43983-2ad1-4f6d-a70c-1255992b3c24",
   "metadata": {},
   "outputs": [],
   "source": [
    "# syntax: aggregate(zeroValue, seqOp, combOp)\n",
    "# aggregate\n",
    "seqOp = lambda a,b: a+b\n",
    "combOp = lambda a,b: a+b\n",
    "agg = listrdd.aggregate(0,seqOp, combOp)\n"
   ]
  },
  {
   "cell_type": "code",
   "execution_count": 9,
   "id": "e90ba0e1-8e8c-4620-9924-c80a61786670",
   "metadata": {},
   "outputs": [
    {
     "name": "stdout",
     "output_type": "stream",
     "text": [
      "43\n"
     ]
    }
   ],
   "source": [
    "print(agg)"
   ]
  },
  {
   "cell_type": "code",
   "execution_count": null,
   "id": "de204ccd-7490-4f63-b22f-071a83d02272",
   "metadata": {},
   "outputs": [],
   "source": [
    "l"
   ]
  }
 ],
 "metadata": {
  "kernelspec": {
   "display_name": "Python 3 (ipykernel)",
   "language": "python",
   "name": "python3"
  },
  "language_info": {
   "codemirror_mode": {
    "name": "ipython",
    "version": 3
   },
   "file_extension": ".py",
   "mimetype": "text/x-python",
   "name": "python",
   "nbconvert_exporter": "python",
   "pygments_lexer": "ipython3",
   "version": "3.11.5"
  }
 },
 "nbformat": 4,
 "nbformat_minor": 5
}
