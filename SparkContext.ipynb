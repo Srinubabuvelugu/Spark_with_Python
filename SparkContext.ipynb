{
 "cells": [
  {
   "cell_type": "code",
   "execution_count": 4,
   "id": "76d589da-2314-4520-9794-af3f537cb042",
   "metadata": {},
   "outputs": [
    {
     "name": "stdout",
     "output_type": "stream",
     "text": [
      "<SparkContext master=local appName=SparkContext.com>\n",
      "SparkContext.com\n"
     ]
    }
   ],
   "source": [
    "# creating SparkContext in pyspark\n",
    "from pyspark.sql import SparkSession\n",
    "spark = SparkSession.builder.master(\"local\").appName(\"SparkContext.com\").getOrCreate()\n",
    "print(spark.sparkContext)\n",
    "print(spark.sparkContext.appName)"
   ]
  },
  {
   "cell_type": "code",
   "execution_count": 6,
   "id": "81361244-2daf-44bf-a32d-f18fcc0dfa3f",
   "metadata": {},
   "outputs": [
    {
     "name": "stdout",
     "output_type": "stream",
     "text": [
      "None\n"
     ]
    }
   ],
   "source": [
    "# stop the SparkContext\n",
    "print(spark.sparkContext.stop())\n"
   ]
  },
  {
   "cell_type": "code",
   "execution_count": 8,
   "id": "563a7df4-bdb9-4162-b123-1f78c09ad076",
   "metadata": {},
   "outputs": [
    {
     "name": "stdout",
     "output_type": "stream",
     "text": [
      "Spark_Example_App\n"
     ]
    }
   ],
   "source": [
    "\n",
    "# Create SparkContext\n",
    "from pyspark import SparkContext\n",
    "sc = SparkContext(\"local\", \"Spark_Example_App\")\n",
    "print(sc.appName)"
   ]
  },
  {
   "cell_type": "code",
   "execution_count": 10,
   "id": "7d99af4c-646f-4fc0-8b50-f23a995c0749",
   "metadata": {},
   "outputs": [],
   "source": [
    "sc.stop()"
   ]
  },
  {
   "cell_type": "code",
   "execution_count": 11,
   "id": "b553427d-8722-4672-9611-9220a5698024",
   "metadata": {},
   "outputs": [
    {
     "name": "stdout",
     "output_type": "stream",
     "text": [
      "Spark_Example_app\n"
     ]
    }
   ],
   "source": [
    "from pyspark import SparkContext\n",
    "sc = SparkContext(\"local\", \"Spark_Example_app\")\n",
    "print(sc.appName)"
   ]
  },
  {
   "cell_type": "code",
   "execution_count": 12,
   "id": "0730a311-0cd0-4950-a70e-f2e36a808363",
   "metadata": {},
   "outputs": [
    {
     "name": "stdout",
     "output_type": "stream",
     "text": [
      "Spark_Example_app\n"
     ]
    }
   ],
   "source": [
    "# Create Spark Context\n",
    "from pyspark import SparkConf, SparkContext\n",
    "conf = SparkConf()\n",
    "conf.setMaster(\"local\").setAppName(\"Spark Example App\")\n",
    "sc = SparkContext.getOrCreate(conf)\n",
    "print(sc.appName)"
   ]
  },
  {
   "cell_type": "code",
   "execution_count": 16,
   "id": "25202052-78e1-4213-be38-78ba73a3cae9",
   "metadata": {},
   "outputs": [],
   "source": [
    "sc.stop()"
   ]
  },
  {
   "cell_type": "code",
   "execution_count": 20,
   "id": "b02d443a-192a-46ec-bf8a-e846203f84e1",
   "metadata": {},
   "outputs": [
    {
     "name": "stdout",
     "output_type": "stream",
     "text": [
      "[1, 2, 3, 4, 5, 6, 7, 8, 9]\n"
     ]
    }
   ],
   "source": [
    "# creating SparkContext in pyspark\n",
    "from pyspark.sql import SparkSession\n",
    "spark = SparkSession.builder.master(\"local\").appName(\"SparkContext.com\").getOrCreate()\n",
    "# creating RDD \n",
    "rdd = spark.sparkContext.range(1,10)\n",
    "print(rdd.collect())"
   ]
  },
  {
   "cell_type": "code",
   "execution_count": 18,
   "id": "5d88bc0a-b431-4dea-81d1-be7a863054a8",
   "metadata": {},
   "outputs": [
    {
     "name": "stdout",
     "output_type": "stream",
     "text": [
      "[1, 2, 3, 4]\n"
     ]
    }
   ],
   "source": [
    "# Create RDD\n",
    "rdd = spark.sparkContext.range(1, 5)\n",
    "print(rdd.collect())"
   ]
  },
  {
   "cell_type": "code",
   "execution_count": 22,
   "id": "441246fc-383a-434b-9cec-0af495b4c34b",
   "metadata": {},
   "outputs": [
    {
     "data": {
      "text/plain": [
       "'3.5.1'"
      ]
     },
     "execution_count": 22,
     "metadata": {},
     "output_type": "execute_result"
    }
   ],
   "source": [
    "spark.version"
   ]
  },
  {
   "cell_type": "code",
   "execution_count": 30,
   "id": "e1d25982-39b9-4918-9869-475a81bb65dd",
   "metadata": {},
   "outputs": [],
   "source": [
    "spark.stop()"
   ]
  },
  {
   "cell_type": "code",
   "execution_count": 31,
   "id": "8da73566-6c48-496b-93a4-ff84668f4c21",
   "metadata": {},
   "outputs": [
    {
     "data": {
      "text/plain": [
       "'http://Rangapavan:4040'"
      ]
     },
     "execution_count": 31,
     "metadata": {},
     "output_type": "execute_result"
    }
   ],
   "source": [
    "from pyspark import SparkContext\n",
    "sc = SparkContext(\"local\", \"Spark_Example_app\")\n",
    "sc.uiWebUrl"
   ]
  },
  {
   "cell_type": "code",
   "execution_count": null,
   "id": "e438582d-522a-43cd-ba24-5b9d17cb5bba",
   "metadata": {},
   "outputs": [],
   "source": []
  }
 ],
 "metadata": {
  "kernelspec": {
   "display_name": "Python 3 (ipykernel)",
   "language": "python",
   "name": "python3"
  },
  "language_info": {
   "codemirror_mode": {
    "name": "ipython",
    "version": 3
   },
   "file_extension": ".py",
   "mimetype": "text/x-python",
   "name": "python",
   "nbconvert_exporter": "python",
   "pygments_lexer": "ipython3",
   "version": "3.11.5"
  }
 },
 "nbformat": 4,
 "nbformat_minor": 5
}
