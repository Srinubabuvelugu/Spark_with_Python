{
 "cells": [
  {
   "cell_type": "code",
   "execution_count": 1,
   "id": "0ad7213b-1c77-4516-8bbe-629d94dcfd68",
   "metadata": {},
   "outputs": [],
   "source": [
    "## crating spark session\n",
    "import pyspark\n",
    "from pyspark.sql import SparkSession \n",
    "spark = SparkSession.builder.appName('Broadcast_variable.com').getOrCreate()\n"
   ]
  },
  {
   "cell_type": "code",
   "execution_count": 2,
   "id": "1d700bfb-f8b6-439f-9868-791fa33b6b97",
   "metadata": {},
   "outputs": [],
   "source": [
    "# creating broadcast variables \n",
    "states = {\"NY\":\"New York\", \"CA\": \"California\", \"FL\": \"Flordia\"}\n",
    "broadcast_states = spark.sparkContext.broadcast(states)\n"
   ]
  },
  {
   "cell_type": "code",
   "execution_count": 3,
   "id": "cea5c87d-e505-4a33-a659-104683d369c5",
   "metadata": {},
   "outputs": [
    {
     "data": {
      "text/plain": [
       "{'NY': 'New York', 'CA': 'California', 'FL': 'Flordia'}"
      ]
     },
     "execution_count": 3,
     "metadata": {},
     "output_type": "execute_result"
    }
   ],
   "source": [
    "# checking the broadcast values\n",
    "broadcast_states.value"
   ]
  },
  {
   "cell_type": "code",
   "execution_count": 7,
   "id": "3c884a13-2489-41ac-84a3-361537ebb1d1",
   "metadata": {},
   "outputs": [
    {
     "name": "stdout",
     "output_type": "stream",
     "text": [
      "[('James', 'Smith', 'USA', 'CA'), ('Michael', 'Rose', 'USA', 'NY'), ('Robert', 'Williams', 'USA', 'CA'), ('Maria', 'Jones', 'USA', 'FL')]\n"
     ]
    }
   ],
   "source": [
    "## rdd creation with parallelize\n",
    "data = [(\"James\",\"Smith\",\"USA\",\"CA\"),\n",
    "    (\"Michael\",\"Rose\",\"USA\",\"NY\"),\n",
    "    (\"Robert\",\"Williams\",\"USA\",\"CA\"),\n",
    "    (\"Maria\",\"Jones\",\"USA\",\"FL\")\n",
    "  ]\n",
    "rdd = spark.sparkContext.parallelize(data)\n",
    "print(rdd.collect())"
   ]
  },
  {
   "cell_type": "code",
   "execution_count": 8,
   "id": "0db3e8a4-17fa-4fea-9003-6105e2013883",
   "metadata": {},
   "outputs": [
    {
     "name": "stdout",
     "output_type": "stream",
     "text": [
      "[('James', 'Smith', 'USA', 'California'), ('Michael', 'Rose', 'USA', 'New York'), ('Robert', 'Williams', 'USA', 'California'), ('Maria', 'Jones', 'USA', 'Flordia')]\n"
     ]
    }
   ],
   "source": [
    "## broadcast variable transformation\n",
    "def state_convert(code):\n",
    "    return broadcast_states.value[code]\n",
    "\n",
    "result = rdd.map(lambda x:(x[0],x[1],x[2],state_convert(x[3]))).collect()\n",
    "print(result)"
   ]
  },
  {
   "cell_type": "code",
   "execution_count": 14,
   "id": "b99a5a85-7560-4078-8209-496971e9d140",
   "metadata": {},
   "outputs": [
    {
     "name": "stdout",
     "output_type": "stream",
     "text": [
      "root\n",
      " |-- Firstname: string (nullable = true)\n",
      " |-- Lastname: string (nullable = true)\n",
      " |-- Country: string (nullable = true)\n",
      " |-- State: string (nullable = true)\n",
      "\n",
      "None\n",
      "+---------+--------+-------+-----+\n",
      "|Firstname|Lastname|Country|State|\n",
      "+---------+--------+-------+-----+\n",
      "|James    |Smith   |USA    |CA   |\n",
      "|Michael  |Rose    |USA    |NY   |\n",
      "|Robert   |Williams|USA    |CA   |\n",
      "|Maria    |Jones   |USA    |FL   |\n",
      "+---------+--------+-------+-----+\n",
      "\n",
      "None\n",
      "+---------+--------+------------------------+----------+\n",
      "|Firstname|Lastname|Country                 |State     |\n",
      "+---------+--------+------------------------+----------+\n",
      "|James    |Smith   |United States Of America|California|\n",
      "|Michael  |Rose    |United States Of America|New York  |\n",
      "|Robert   |Williams|United States Of America|California|\n",
      "|Maria    |Jones   |United States Of America|Flordia   |\n",
      "+---------+--------+------------------------+----------+\n",
      "\n",
      "None\n"
     ]
    }
   ],
   "source": [
    "## Broadcast variables in DataFrame\n",
    "# creating broadcast variables \n",
    "states = {\"NY\":\"New York\", \"CA\": \"California\", \"FL\": \"Flordia\", 'USA':'United States Of America'}\n",
    "broadcast_states = spark.sparkContext.broadcast(states)\n",
    "\n",
    "## rdd creation with parallelize\n",
    "data = [(\"James\",\"Smith\",\"USA\",\"CA\"),\n",
    "    (\"Michael\",\"Rose\",\"USA\",\"NY\"),\n",
    "    (\"Robert\",\"Williams\",\"USA\",\"CA\"),\n",
    "    (\"Maria\",\"Jones\",\"USA\",\"FL\")\n",
    "  ]\n",
    "\n",
    "columns = ['Firstname', 'Lastname','Country','State']\n",
    "df = spark.createDataFrame(data,schema = columns)\n",
    "print(df.printSchema())\n",
    "print(df.show(truncate=False))\n",
    "## broadcast variable transformation\n",
    "def transformation(code):\n",
    "    return broadcast_states.value[code]\n",
    "\n",
    "result = df.rdd.map(lambda x:(x[0],x[1],transformation(x[2]),transformation(x[3]))).toDF(columns)\n",
    "print(result.show(truncate=False))"
   ]
  },
  {
   "cell_type": "code",
   "execution_count": null,
   "id": "8fcdb64b-a7a8-443a-b206-b30be09ac963",
   "metadata": {},
   "outputs": [],
   "source": []
  }
 ],
 "metadata": {
  "kernelspec": {
   "display_name": "Python 3 (ipykernel)",
   "language": "python",
   "name": "python3"
  },
  "language_info": {
   "codemirror_mode": {
    "name": "ipython",
    "version": 3
   },
   "file_extension": ".py",
   "mimetype": "text/x-python",
   "name": "python",
   "nbconvert_exporter": "python",
   "pygments_lexer": "ipython3",
   "version": "3.11.5"
  }
 },
 "nbformat": 4,
 "nbformat_minor": 5
}
