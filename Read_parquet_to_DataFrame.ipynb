{
  "cells": [
    {
      "cell_type": "code",
      "source": [
        "pip install pyspark"
      ],
      "metadata": {
        "colab": {
          "base_uri": "https://localhost:8080/"
        },
        "id": "2OAoZdFWJ33I",
        "outputId": "ba618a0b-0d2d-414f-aa0f-2a839d1136c2"
      },
      "id": "2OAoZdFWJ33I",
      "execution_count": 4,
      "outputs": [
        {
          "output_type": "stream",
          "name": "stdout",
          "text": [
            "Requirement already satisfied: pyspark in /usr/local/lib/python3.10/dist-packages (3.5.1)\n",
            "Requirement already satisfied: py4j==0.10.9.7 in /usr/local/lib/python3.10/dist-packages (from pyspark) (0.10.9.7)\n"
          ]
        }
      ]
    },
    {
      "cell_type": "code",
      "execution_count": 5,
      "id": "cad92177-f585-4851-963e-792d5b35a4f4",
      "metadata": {
        "id": "cad92177-f585-4851-963e-792d5b35a4f4"
      },
      "outputs": [],
      "source": [
        "from pyspark.sql import SparkSession\n",
        "spark = SparkSession.builder.appName(\"Read_json_into_DataFrame.com\").getOrCreate()"
      ]
    },
    {
      "cell_type": "code",
      "execution_count": 6,
      "id": "b37234f2-e180-48fd-ba25-95e4a33a1978",
      "metadata": {
        "colab": {
          "base_uri": "https://localhost:8080/"
        },
        "id": "b37234f2-e180-48fd-ba25-95e4a33a1978",
        "outputId": "b5fe7abc-8434-4c08-fc5f-0f0dfaa5b340"
      },
      "outputs": [
        {
          "output_type": "execute_result",
          "data": {
            "text/plain": [
              "['__class__',\n",
              " '__delattr__',\n",
              " '__dict__',\n",
              " '__dir__',\n",
              " '__doc__',\n",
              " '__eq__',\n",
              " '__format__',\n",
              " '__ge__',\n",
              " '__getattribute__',\n",
              " '__gt__',\n",
              " '__hash__',\n",
              " '__init__',\n",
              " '__init_subclass__',\n",
              " '__le__',\n",
              " '__lt__',\n",
              " '__module__',\n",
              " '__ne__',\n",
              " '__new__',\n",
              " '__reduce__',\n",
              " '__reduce_ex__',\n",
              " '__repr__',\n",
              " '__setattr__',\n",
              " '__sizeof__',\n",
              " '__str__',\n",
              " '__subclasshook__',\n",
              " '__weakref__',\n",
              " '_df',\n",
              " '_jreader',\n",
              " '_set_opts',\n",
              " '_spark',\n",
              " 'csv',\n",
              " 'format',\n",
              " 'jdbc',\n",
              " 'json',\n",
              " 'load',\n",
              " 'option',\n",
              " 'options',\n",
              " 'orc',\n",
              " 'parquet',\n",
              " 'schema',\n",
              " 'table',\n",
              " 'text']"
            ]
          },
          "metadata": {},
          "execution_count": 6
        }
      ],
      "source": [
        "dir(spark.read)"
      ]
    },
    {
      "cell_type": "code",
      "execution_count": 7,
      "id": "e060c67d-36ed-447f-81bd-3af3d74d5cd9",
      "metadata": {
        "colab": {
          "base_uri": "https://localhost:8080/"
        },
        "id": "e060c67d-36ed-447f-81bd-3af3d74d5cd9",
        "outputId": "73f34153-37f5-4ca4-e8d4-49306c136247"
      },
      "outputs": [
        {
          "output_type": "stream",
          "name": "stdout",
          "text": [
            "Help on method parquet in module pyspark.sql.readwriter:\n",
            "\n",
            "parquet(*paths: str, **options: 'OptionalPrimitiveType') -> 'DataFrame' method of pyspark.sql.readwriter.DataFrameReader instance\n",
            "    Loads Parquet files, returning the result as a :class:`DataFrame`.\n",
            "    \n",
            "    .. versionadded:: 1.4.0\n",
            "    \n",
            "    .. versionchanged:: 3.4.0\n",
            "        Supports Spark Connect.\n",
            "    \n",
            "    Parameters\n",
            "    ----------\n",
            "    paths : str\n",
            "    \n",
            "    Other Parameters\n",
            "    ----------------\n",
            "    **options\n",
            "        For the extra options, refer to\n",
            "        `Data Source Option <https://spark.apache.org/docs/latest/sql-data-sources-parquet.html#data-source-option>`_\n",
            "        for the version you use.\n",
            "    \n",
            "        .. # noqa\n",
            "    \n",
            "    Examples\n",
            "    --------\n",
            "    Write a DataFrame into a Parquet file and read it back.\n",
            "    \n",
            "    >>> import tempfile\n",
            "    >>> with tempfile.TemporaryDirectory() as d:\n",
            "    ...     # Write a DataFrame into a Parquet file\n",
            "    ...     spark.createDataFrame(\n",
            "    ...         [{\"age\": 100, \"name\": \"Hyukjin Kwon\"}]\n",
            "    ...     ).write.mode(\"overwrite\").format(\"parquet\").save(d)\n",
            "    ...\n",
            "    ...     # Read the Parquet file as a DataFrame.\n",
            "    ...     spark.read.parquet(d).show()\n",
            "    +---+------------+\n",
            "    |age|        name|\n",
            "    +---+------------+\n",
            "    |100|Hyukjin Kwon|\n",
            "    +---+------------+\n",
            "\n"
          ]
        }
      ],
      "source": [
        "help(spark.read.parquet)"
      ]
    },
    {
      "cell_type": "code",
      "execution_count": 8,
      "id": "427cb70b-dd01-4bc8-b78a-95ddf05c1d54",
      "metadata": {
        "colab": {
          "base_uri": "https://localhost:8080/"
        },
        "id": "427cb70b-dd01-4bc8-b78a-95ddf05c1d54",
        "outputId": "a63f82d9-9947-4a24-e6d4-5c61f08c5f58"
      },
      "outputs": [
        {
          "output_type": "stream",
          "name": "stdout",
          "text": [
            "1000\n",
            "+-------------------+---+----------+---------+------------------------+------+---------------+-------------------+----------------------+----------+---------+----------------------------+----------------------------+\n",
            "|registration_dttm  |id |first_name|last_name|email                   |gender|ip_address     |cc                 |country               |birthdate |salary   |title                       |comments                    |\n",
            "+-------------------+---+----------+---------+------------------------+------+---------------+-------------------+----------------------+----------+---------+----------------------------+----------------------------+\n",
            "|2016-02-03 07:55:29|1  |Amanda    |Jordan   |ajordan0@com.com        |Female|1.197.201.2    |6759521864920116   |Indonesia             |3/8/1971  |49756.53 |Internal Auditor            |1E+02                       |\n",
            "|2016-02-03 17:04:03|2  |Albert    |Freeman  |afreeman1@is.gd         |Male  |218.111.175.34 |                   |Canada                |1/16/1968 |150280.17|Accountant IV               |                            |\n",
            "|2016-02-03 01:09:31|3  |Evelyn    |Morgan   |emorgan2@altervista.org |Female|7.161.136.94   |6767119071901597   |Russia                |2/1/1960  |144972.51|Structural Engineer         |                            |\n",
            "|2016-02-03 00:36:21|4  |Denise    |Riley    |driley3@gmpg.org        |Female|140.35.109.83  |3576031598965625   |China                 |4/8/1997  |90263.05 |Senior Cost Accountant      |                            |\n",
            "|2016-02-03 05:05:31|5  |Carlos    |Burns    |cburns4@miitbeian.gov.cn|      |169.113.235.40 |5602256255204850   |South Africa          |          |NULL     |                            |                            |\n",
            "|2016-02-03 07:22:34|6  |Kathryn   |White    |kwhite5@google.com      |Female|195.131.81.179 |3583136326049310   |Indonesia             |2/25/1983 |69227.11 |Account Executive           |                            |\n",
            "|2016-02-03 08:33:08|7  |Samuel    |Holmes   |sholmes6@foxnews.com    |Male  |232.234.81.197 |3582641366974690   |Portugal              |12/18/1987|14247.62 |Senior Financial Analyst    |                            |\n",
            "|2016-02-03 06:47:06|8  |Harry     |Howell   |hhowell7@eepurl.com     |Male  |91.235.51.73   |                   |Bosnia and Herzegovina|3/1/1962  |186469.43|Web Developer IV            |                            |\n",
            "|2016-02-03 03:52:53|9  |Jose      |Foster   |jfoster8@yelp.com       |Male  |132.31.53.61   |                   |South Korea           |3/27/1992 |231067.84|Software Test Engineer I    |1E+02                       |\n",
            "|2016-02-03 18:29:47|10 |Emily     |Stewart  |estewart9@opensource.org|Female|143.28.251.245 |3574254110301671   |Nigeria               |1/28/1997 |27234.28 |Health Coach IV             |                            |\n",
            "|2016-02-03 00:10:42|11 |Susan     |Perkins  |sperkinsa@patch.com     |Female|180.85.0.62    |3573823609854134   |Russia                |          |210001.95|                            |                            |\n",
            "|2016-02-03 18:04:34|12 |Alice     |Berry    |aberryb@wikipedia.org   |Female|246.225.12.189 |4917830851454417   |China                 |8/12/1968 |22944.53 |Quality Engineer            |                            |\n",
            "|2016-02-03 18:48:17|13 |Justin    |Berry    |jberryc@usatoday.com    |Male  |157.7.146.43   |6331109912871813274|Zambia                |8/15/1975 |44165.46 |Structural Analysis Engineer|                            |\n",
            "|2016-02-03 21:46:52|14 |Kathy     |Reynolds |kreynoldsd@redcross.org |Female|81.254.172.13  |5537178462965976   |Bosnia and Herzegovina|6/27/1970 |286592.99|Librarian                   |                            |\n",
            "|2016-02-03 08:53:23|15 |Dorothy   |Hudson   |dhudsone@blogger.com    |Female|8.59.7.0       |3542586858224170   |Japan                 |12/20/1989|157099.71|Nurse Practicioner          |<script>alert('hi')</script>|\n",
            "|2016-02-03 00:44:01|16 |Bruce     |Willis   |bwillisf@bluehost.com   |Male  |239.182.219.189|3573030625927601   |Brazil                |          |239100.65|                            |                            |\n",
            "|2016-02-03 00:57:45|17 |Emily     |Andrews  |eandrewsg@cornell.edu   |Female|29.231.180.172 |30271790537626     |Russia                |4/13/1990 |116800.65|Food Chemist                |                            |\n",
            "|2016-02-03 16:44:24|18 |Stephen   |Wallace  |swallaceh@netvibes.com  |Male  |152.49.213.62  |5433943468526428   |Ukraine               |1/15/1978 |248877.99|Account Representative I    |                            |\n",
            "|2016-02-03 11:45:54|19 |Clarence  |Lawson   |clawsoni@vkontakte.ru   |Male  |107.175.15.152 |3544052814080964   |Russia                |          |177122.99|                            |                            |\n",
            "|2016-02-03 10:30:36|20 |Rebecca   |Bell     |rbellj@bandcamp.com     |Female|172.215.104.127|                   |China                 |          |137251.19|                            |                            |\n",
            "+-------------------+---+----------+---------+------------------------+------+---------------+-------------------+----------------------+----------+---------+----------------------------+----------------------------+\n",
            "only showing top 20 rows\n",
            "\n",
            "None\n"
          ]
        }
      ],
      "source": [
        "# Reading the parquet file\n",
        "df = spark.read.parquet('/content/userdata1.parquet')\n",
        "print(df.count())\n",
        "print(df.show(truncate=False))"
      ]
    },
    {
      "cell_type": "code",
      "execution_count": 9,
      "id": "7d56a12d-14a4-4517-a4d8-bc213ffe65d0",
      "metadata": {
        "colab": {
          "base_uri": "https://localhost:8080/"
        },
        "id": "7d56a12d-14a4-4517-a4d8-bc213ffe65d0",
        "outputId": "f5943bf8-0d8b-4f05-c269-4923352dcc45"
      },
      "outputs": [
        {
          "output_type": "stream",
          "name": "stdout",
          "text": [
            "root\n",
            " |-- registration_dttm: timestamp (nullable = true)\n",
            " |-- id: integer (nullable = true)\n",
            " |-- first_name: string (nullable = true)\n",
            " |-- last_name: string (nullable = true)\n",
            " |-- email: string (nullable = true)\n",
            " |-- gender: string (nullable = true)\n",
            " |-- ip_address: string (nullable = true)\n",
            " |-- cc: string (nullable = true)\n",
            " |-- country: string (nullable = true)\n",
            " |-- birthdate: string (nullable = true)\n",
            " |-- salary: double (nullable = true)\n",
            " |-- title: string (nullable = true)\n",
            " |-- comments: string (nullable = true)\n",
            "\n",
            "None\n",
            "2000\n",
            "+-------------------+---+----------+----------+------------------------+------+---------------+-------------------+-----------+----------+---------+------------------------+--------------------------------------+\n",
            "|registration_dttm  |id |first_name|last_name |email                   |gender|ip_address     |cc                 |country    |birthdate |salary   |title                   |comments                              |\n",
            "+-------------------+---+----------+----------+------------------------+------+---------------+-------------------+-----------+----------+---------+------------------------+--------------------------------------+\n",
            "|2016-02-03 16:07:46|1  |Ernest    |Fuller    |efuller0@examiner.com   |Male  |106.72.28.74   |5610608195667267   |Israel     |          |140639.36|                        |                                      |\n",
            "|2016-02-03 21:52:07|2  |Anthony   |Foster    |afoster1@weibo.com      |Male  |156.243.130.166|4508242795214771   |Indonesia  |1/16/1998 |172843.61|Developer II            |👾 🙇 💁 🙅 🙆 🙋 🙎 🙍               |\n",
            "|2016-02-03 02:22:19|3  |Ryan      |Montgomery|rmontgomery2@mozilla.org|Male  |28.55.168.128  |                   |Colombia   |11/21/1978|204620.66|Developer I             |␢                                     |\n",
            "|2016-02-03 04:20:04|4  |Brenda    |Nelson    |bnelson3@photobucket.com|Female|185.81.160.85  |                   |Guatemala  |10/29/1998|260474.12|GIS Technical Architect |                                      |\n",
            "|2016-02-03 00:15:16|5  |Jacqueline|Ellis     |jellis4@amazon.com      |Female|158.137.238.6  |                   |Russia     |7/12/1959 |286038.78|Marketing Assistant     |                                      |\n",
            "|2016-02-03 19:48:14|6  |Paul      |Ferguson  |pferguson5@gmpg.org     |Male  |141.122.136.144|30501574577558     |Thailand   |          |241518.24|                        |                                      |\n",
            "|2016-02-03 08:59:05|7  |Linda     |Hunt      |lhunt6@prlog.org        |Female|104.179.97.82  |                   |Russia     |3/30/1988 |192756.38|Professor               |                                      |\n",
            "|2016-02-03 08:04:51|8  |Frances   |Kim       |fkim7@blog.com          |Female|28.77.158.48   |676306013856639159 |Indonesia  |          |188511.28|                        |<svg><script>0<1>alert('XSS')</script>|\n",
            "|2016-02-03 08:12:33|9  |Jason     |Matthews  |jmatthews8@google.co.uk |Male  |72.129.239.24  |3534550235909507   |China      |7/29/1982 |238068.56|Web Designer III        |                                      |\n",
            "|2016-02-03 17:08:02|10 |Carolyn   |Elliott   |celliott9@cpanel.net    |Female|51.211.70.30   |3563436733386899   |Indonesia  |4/28/1977 |132718.26|Research Nurse          |                                      |\n",
            "|2016-02-03 04:22:59|11 |Thomas    |Mills     |tmillsa@psu.edu         |Male  |104.114.227.199|5018278895598921190|Russia     |          |236386.69|                        |                                      |\n",
            "|2016-02-03 21:19:27|12 |Russell   |Lee       |rleeb@howstuffworks.com |Male  |193.165.137.217|                   |China      |          |280252.36|                        |🐵 🙈 🙉 🙊                           |\n",
            "|2016-02-03 18:47:44|13 |Chris     |Bailey    |cbaileyc@redcross.org   |Male  |246.109.118.154|30485245023962     |Thailand   |11/26/1970|200218.34|Research Assistant I    |                                      |\n",
            "|2016-02-03 00:01:52|14 |Eric      |Parker    |eparkerd@usa.gov        |Male  |25.73.91.135   |5602249431899032   |Russia     |8/12/1986 |102832.54|Tax Accountant          |                                      |\n",
            "|2016-02-03 19:13:08|15 |Anne      |Robertson |arobertsone@geocities.jp|Female|209.77.27.30   |                   |Armenia    |          |168201.04|                        |　                                    |\n",
            "|2016-02-03 10:11:18|16 |Angela    |Gonzalez  |agonzalezf@state.gov    |Female|118.77.43.191  |                   |Sweden     |7/1/1972  |161220.37|Database Administrator I|                                      |\n",
            "|2016-02-03 08:35:22|17 |Edward    |Moreno    |emorenog@hp.com         |Male  |200.50.125.67  |3559979696602303   |France     |8/17/1966 |144551.41|Chief Design Engineer   |                                      |\n",
            "|2016-02-03 10:42:25|18 |Roy       |Murray    |rmurrayh@sphinn.com     |Male  |91.52.226.221  |3546330084792460   |Portugal   |          |285872.87|                        |𠜎𠜱𠝹𠱓𠱸𠲖𠳏                        |\n",
            "|2016-02-03 09:48:59|19 |Louis     |Willis    |lwillisi@hp.com         |      |14.132.82.250  |                   |Philippines|8/1/1980  |NULL     |Director of Sales       |                                      |\n",
            "|2016-02-03 20:09:32|20 |Edward    |Perez     |eperezj@china.com.cn    |Male  |24.152.201.59  |3571014044514515   |Indonesia  |          |29515.23 |                        |                                      |\n",
            "+-------------------+---+----------+----------+------------------------+------+---------------+-------------------+-----------+----------+---------+------------------------+--------------------------------------+\n",
            "only showing top 20 rows\n",
            "\n",
            "None\n"
          ]
        }
      ],
      "source": [
        "# Reading the multiple parquet files\n",
        "df1 = spark.read.parquet('/content/sample data')\n",
        "print(df1.printSchema())\n",
        "print(df1.count())\n",
        "print(df1.show(truncate=False))"
      ]
    },
    {
      "cell_type": "code",
      "execution_count": 18,
      "id": "be6fd6a4-9093-4af9-aba9-6f12701694ed",
      "metadata": {
        "id": "be6fd6a4-9093-4af9-aba9-6f12701694ed"
      },
      "outputs": [],
      "source": [
        "## to save the DataFrame into Parquet files\n",
        "df1.write.parquet('/content/parquet_outputs', mode = 'overwrite')"
      ]
    },
    {
      "cell_type": "code",
      "source": [
        "## Reading the saved parquet files\n",
        "df2 = spark.read.parquet('/content/parquet_outputs')\n",
        "#print(df2.printSchema())\n",
        "print(df2.show())"
      ],
      "metadata": {
        "colab": {
          "base_uri": "https://localhost:8080/"
        },
        "id": "Tat7hf0QK5jv",
        "outputId": "b11f4cb1-f836-4b52-826b-71ef07b64aa5"
      },
      "id": "Tat7hf0QK5jv",
      "execution_count": 19,
      "outputs": [
        {
          "output_type": "stream",
          "name": "stdout",
          "text": [
            "+-------------------+----+----------+---------+--------------------+------+---------------+----------------+--------------------+----------+---------+--------------------+--------+\n",
            "|  registration_dttm|  id|first_name|last_name|               email|gender|     ip_address|              cc|             country| birthdate|   salary|               title|comments|\n",
            "+-------------------+----+----------+---------+--------------------+------+---------------+----------------+--------------------+----------+---------+--------------------+--------+\n",
            "|2016-02-03 13:36:39|   1|    Donald|    Lewis|dlewis0@clickbank...|  Male|  102.22.124.20|                |           Indonesia|  7/9/1972|140249.37|Senior Financial ...|        |\n",
            "|2016-02-03 00:22:28|   2|    Walter|  Collins|wcollins1@bloglov...|  Male|   247.28.26.93|3587726269478025|               China|          |     NULL|                    |        |\n",
            "|2016-02-03 18:29:04|   3|  Michelle|Henderson|mhenderson2@geoci...|Female| 193.68.146.150|                |              France| 1/15/1964|236219.26|             Teacher|        |\n",
            "|2016-02-03 13:42:19|   4|      Lori|   Hudson| lhudson3@dion.ne.jp|      |  34.252.168.48|3568840151595649|              Russia| 4/22/1988|     NULL|Nuclear Power Eng...|        |\n",
            "|2016-02-03 00:15:29|   5|    Howard|   Miller|   hmiller4@fema.gov|  Male|103.193.150.230|3583473261055014|              France|11/26/1998| 50210.02|       Senior Editor|        |\n",
            "|2016-02-03 10:49:07|   6|   Frances|    Adams|fadams5@123-reg.c...|Female| 106.196.106.93|                |              Russia| 3/27/1997| 82175.77| Account Coordinator|        |\n",
            "|2016-02-03 19:44:12|NULL|    Steven|   Hanson|  shanson6@cisco.com|  Male|234.130.172.185|3550842607768119|           Indonesia|          |129582.61|                    |        |\n",
            "|2016-02-03 08:11:34|   8|     Louis|  Simmons|   lsimmons7@icio.us|  Male|    18.69.80.15|                |               China|  6/1/1992| 90744.86|    Product Engineer|        |\n",
            "|2016-02-03 23:56:51|   9|     Keith|   Parker|kparker8@amazonaw...|  Male|  108.205.40.64|                |          Guadeloupe|12/30/1992|  60618.9|        Developer II|        |\n",
            "|2016-02-03 07:47:29|  10|     Wanda|   Walker|wwalker9@latimes.com|Female|  246.214.98.78|3539421569669478|            Portugal|          |137664.53|                    |        |\n",
            "|2016-02-03 16:39:23|  11|   Kathryn|   Weaver|kweavera@bizjourn...|Female| 157.237.161.75| 201425019338900|              Sweden|          |117572.65|                    |        |\n",
            "|2016-02-03 06:50:56|  12|    Philip|     Ward| pwardb@sakura.ne.jp|  Male|  77.140.225.69| 201508031789224|              Greece|  9/3/1984|238925.79|Human Resources M...|        |\n",
            "|2016-02-03 23:36:58|  13|    Evelyn|   Harvey|   eharveyc@time.com|      |  254.174.154.7|3539535868968594|               China| 5/15/1979|     NULL|Software Engineer...|        |\n",
            "|2016-02-03 07:33:24|  14|    Andrea|     Lane|       alaned@gov.uk|Female|192.253.116.192|5100174455306952|           Indonesia| 1/19/1989|166778.42|            Operator|        |\n",
            "|2016-02-03 13:45:04|  15|     Bobby|  Vasquez|  bvasqueze@furl.net|  Male|  126.60.18.195|3581051861650673|         Philippines| 1/25/1975|138184.83|       Senior Editor|        |\n",
            "|2016-02-03 21:58:10|  16|   Kenneth|   Gibson|kgibsonf@soundclo...|  Male| 91.153.142.170|5389947292571488|                Peru| 11/3/1975| 98614.53|  Environmental Tech|        |\n",
            "|2016-02-03 16:22:34|  17|     Emily|     Hill|    ehillg@house.gov|Female|109.107.174.205|                |Palestinian Terri...| 5/18/1956|218781.48| Executive Secretary|        |\n",
            "|2016-02-03 23:20:49|  18|     Kelly|   Fowler|   kfowlerh@dell.com|Female|  147.58.88.116|3551741291105936|              Greece| 6/11/1975|117249.56|Systems Administr...|        |\n",
            "|2016-02-03 18:28:46|  19|     Diana|   Howell| dhowelli@sphinn.com|Female|   21.240.75.42|4026635872860296|                Iran|  7/7/1993|174844.52|             Teacher|        |\n",
            "|2016-02-03 02:23:26|  20|    Johnny|  Collins| jcollinsj@google.ca|  Male| 38.173.129.250| 372301677387203|         Afghanistan| 7/28/1987|155908.69|       Social Worker|        |\n",
            "+-------------------+----+----------+---------+--------------------+------+---------------+----------------+--------------------+----------+---------+--------------------+--------+\n",
            "only showing top 20 rows\n",
            "\n",
            "None\n"
          ]
        }
      ]
    },
    {
      "cell_type": "code",
      "source": [],
      "metadata": {
        "id": "ZRaiuW-tLoi8"
      },
      "id": "ZRaiuW-tLoi8",
      "execution_count": null,
      "outputs": []
    }
  ],
  "metadata": {
    "kernelspec": {
      "display_name": "Python 3",
      "name": "python3"
    },
    "language_info": {
      "codemirror_mode": {
        "name": "ipython",
        "version": 3
      },
      "file_extension": ".py",
      "mimetype": "text/x-python",
      "name": "python",
      "nbconvert_exporter": "python",
      "pygments_lexer": "ipython3",
      "version": "3.11.5"
    },
    "colab": {
      "provenance": [],
      "gpuType": "T4"
    },
    "accelerator": "GPU"
  },
  "nbformat": 4,
  "nbformat_minor": 5
}