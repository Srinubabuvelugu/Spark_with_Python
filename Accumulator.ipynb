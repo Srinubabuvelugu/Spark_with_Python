{
 "cells": [
  {
   "cell_type": "code",
   "execution_count": 1,
   "id": "495edee5-5016-42b0-9517-c67d31484abc",
   "metadata": {},
   "outputs": [],
   "source": [
    "## Initiating SparkSession\n",
    "import pyspark\n",
    "from pyspark.sql import SparkSession\n",
    "spark = SparkSession.builder.appName('Accumulator').getOrCreate()"
   ]
  },
  {
   "cell_type": "code",
   "execution_count": 3,
   "id": "f12fbb4e-915a-4c05-ae4f-9f2b74969a37",
   "metadata": {},
   "outputs": [
    {
     "data": {
      "text/plain": [
       "'Accumulator'"
      ]
     },
     "execution_count": 3,
     "metadata": {},
     "output_type": "execute_result"
    }
   ],
   "source": [
    "## getting appName\n",
    "spark.sparkContext.appName"
   ]
  },
  {
   "cell_type": "code",
   "execution_count": 6,
   "id": "60a0af7f-d8ec-4338-9596-33bb2ba73ade",
   "metadata": {},
   "outputs": [
    {
     "name": "stdout",
     "output_type": "stream",
     "text": [
      "21\n"
     ]
    }
   ],
   "source": [
    "## Creating Accumulator variable\n",
    "accum = spark.sparkContext.accumulator(0)\n",
    "\n",
    "## Creating rdd using parallelize\n",
    "rdd = spark.sparkContext.parallelize([1,2,3,4,5,6])\n",
    "\n",
    "## adding the values to accumulator variable 'accum'\n",
    "## iterating each element in rdd using the 'foreach()' action\n",
    "rdd.foreach(lambda x: accum.add(x)) ## executed on Worker\n",
    "\n",
    "## retrieving the value by using 'value' property\n",
    "print(accum.value) ## retrieving from the \"driver program\""
   ]
  },
  {
   "cell_type": "code",
   "execution_count": 8,
   "id": "2a3cfad5-9c54-435b-9b69-e47ad78e7545",
   "metadata": {},
   "outputs": [
    {
     "name": "stdout",
     "output_type": "stream",
     "text": [
      "150\n"
     ]
    }
   ],
   "source": [
    "## creating accumulator variable\n",
    "accumSum = spark.sparkContext.accumulator(0)\n",
    "\n",
    "## creating adding function\n",
    "def adding_function(val):\n",
    "    global accumSum\n",
    "    accumSum +=val\n",
    "\n",
    "## rdd creation\n",
    "rdd2 = spark.sparkContext.parallelize([10,20,30,40,50])\n",
    "rdd2.foreach(adding_function) ## worker execution\n",
    "print(accumSum.value) ## call from driver program\n"
   ]
  },
  {
   "cell_type": "code",
   "execution_count": 9,
   "id": "0a9fad81-9524-4d75-b4e7-bdb04f1f99ae",
   "metadata": {},
   "outputs": [
    {
     "name": "stdout",
     "output_type": "stream",
     "text": [
      "151\n"
     ]
    }
   ],
   "source": [
    "## creating accumulator variable\n",
    "accumSum1 = spark.sparkContext.accumulator(1)\n",
    "\n",
    "## creating adding function\n",
    "def adding_function(val):\n",
    "    global accumSum1\n",
    "    accumSum1 +=val\n",
    "\n",
    "## rdd creation\n",
    "rdd3 = spark.sparkContext.parallelize([10,20,30,40,50])\n",
    "rdd3.foreach(adding_function) ## worker execution\n",
    "print(accumSum1.value) ## call from driver program\n"
   ]
  },
  {
   "cell_type": "code",
   "execution_count": 10,
   "id": "f60e54bb-bbe6-4ad0-bc34-4919a7336c96",
   "metadata": {},
   "outputs": [
    {
     "name": "stdout",
     "output_type": "stream",
     "text": [
      "22\n"
     ]
    }
   ],
   "source": [
    "## creating accumulator variable\n",
    "accumSum1 = spark.sparkContext.accumulator(1)\n",
    "\n",
    "## creating adding function\n",
    "def adding_function(val):\n",
    "    global accumSum1\n",
    "    accumSum1 +=val\n",
    "\n",
    "\n",
    "rdd.foreach(adding_function) ## worker execution\n",
    "print(accumSum1.value) ## call from driver program\n"
   ]
  },
  {
   "cell_type": "code",
   "execution_count": 12,
   "id": "b87b8db6-cde7-4606-8637-7c3adc98e3bb",
   "metadata": {},
   "outputs": [
    {
     "name": "stdout",
     "output_type": "stream",
     "text": [
      "[1, 2, 3, 4, 5, 6]\n",
      "6\n"
     ]
    }
   ],
   "source": [
    "##  Accumulators as counters\n",
    "accumCount = spark.sparkContext.accumulator(0)\n",
    "print(rdd.collect())\n",
    "## adding 1 to every iteration\n",
    "rdd.foreach(lambda x: accumCount.add(1)) ## worker execution\n",
    "print(accumCount.value) ## call from driver program"
   ]
  },
  {
   "cell_type": "code",
   "execution_count": null,
   "id": "69288d40-6b4d-411d-8b54-a1e99e893565",
   "metadata": {},
   "outputs": [],
   "source": []
  }
 ],
 "metadata": {
  "kernelspec": {
   "display_name": "Python 3 (ipykernel)",
   "language": "python",
   "name": "python3"
  },
  "language_info": {
   "codemirror_mode": {
    "name": "ipython",
    "version": 3
   },
   "file_extension": ".py",
   "mimetype": "text/x-python",
   "name": "python",
   "nbconvert_exporter": "python",
   "pygments_lexer": "ipython3",
   "version": "3.11.5"
  }
 },
 "nbformat": 4,
 "nbformat_minor": 5
}
