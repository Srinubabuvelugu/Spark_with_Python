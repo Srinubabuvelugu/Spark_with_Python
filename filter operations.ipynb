{
 "cells": [
  {
   "cell_type": "code",
   "execution_count": 1,
   "id": "3169f215-d357-4b28-96ab-b3917c2f878d",
   "metadata": {},
   "outputs": [
    {
     "name": "stdout",
     "output_type": "stream",
     "text": [
      "root\n",
      " |-- Name: struct (nullable = true)\n",
      " |    |-- Firstname: string (nullable = true)\n",
      " |    |-- Middlename: string (nullable = true)\n",
      " |    |-- Lastname: string (nullable = true)\n",
      " |-- Languages: array (nullable = true)\n",
      " |    |-- element: string (containsNull = true)\n",
      " |-- Country: string (nullable = true)\n",
      " |-- Gender: string (nullable = true)\n",
      "\n",
      "+--------------------+------------------+-------+------+\n",
      "|                Name|         Languages|Country|Gender|\n",
      "+--------------------+------------------+-------+------+\n",
      "|    {James, , Smith}|[Java, Scala, C++]|     OH|     M|\n",
      "|      {Anna, Rose, }|[Spark, Java, C++]|     NY|     F|\n",
      "| {Julia, , Williams}|      [CSharp, VB]|     OH|     F|\n",
      "|{Maria, Anne, Jones}|      [CSharp, VB]|     NY|     M|\n",
      "|  {Jen, Mary, Brown}|      [CSharp, VB]|     NY|     M|\n",
      "|{Mike, Mary, Will...|      [Python, VB]|     OH|     M|\n",
      "+--------------------+------------------+-------+------+\n",
      "\n"
     ]
    }
   ],
   "source": [
    "from pyspark.sql import SparkSession\n",
    "from pyspark.sql.types import StructType, StructField\n",
    "from pyspark.sql.types import StringType, IntegerType, ArrayType\n",
    "\n",
    "data = [\n",
    "    ((\"James\",\"\",\"Smith\"),[\"Java\",\"Scala\",\"C++\"],\"OH\",\"M\"),\n",
    "    ((\"Anna\",\"Rose\",\"\"),[\"Spark\",\"Java\",\"C++\"],\"NY\",\"F\"),\n",
    "    ((\"Julia\",\"\",\"Williams\"),[\"CSharp\",\"VB\"],\"OH\",\"F\"),\n",
    "    ((\"Maria\",\"Anne\",\"Jones\"),[\"CSharp\",\"VB\"],\"NY\",\"M\"),\n",
    "    ((\"Jen\",\"Mary\",\"Brown\"),[\"CSharp\",\"VB\"],\"NY\",\"M\"),\n",
    "    ((\"Mike\",\"Mary\",\"Williams\"),[\"Python\",\"VB\"],\"OH\",\"M\")\n",
    " ]\n",
    "\n",
    "schema = StructType([\n",
    "    StructField(\"Name\",StructType([\n",
    "        StructField(\"Firstname\",StringType()),\n",
    "        StructField(\"Middlename\", StringType()),\n",
    "        StructField(\"Lastname\", StringType())\n",
    "        ])),\n",
    "    StructField(\"Languages\", ArrayType(StringType())),\n",
    "    StructField(\"Country\", StringType()),\n",
    "    StructField(\"Gender\", StringType())\n",
    "                ])\n",
    "                \n",
    "spark = SparkSession.builder.appName(\"Spark filter\").getOrCreate()\n",
    "\n",
    "df = spark.createDataFrame(data = data, schema = schema)\n",
    "df.printSchema()\n",
    "df.show()"
   ]
  },
  {
   "cell_type": "code",
   "execution_count": 2,
   "id": "6bcbac70-e591-4bfd-a71f-090828c50bc0",
   "metadata": {},
   "outputs": [
    {
     "name": "stdout",
     "output_type": "stream",
     "text": [
      "+----------------------+------------------+-------+------+\n",
      "|Name                  |Languages         |Country|Gender|\n",
      "+----------------------+------------------+-------+------+\n",
      "|{James, , Smith}      |[Java, Scala, C++]|OH     |M     |\n",
      "|{Anna, Rose, }        |[Spark, Java, C++]|NY     |F     |\n",
      "|{Julia, , Williams}   |[CSharp, VB]      |OH     |F     |\n",
      "|{Maria, Anne, Jones}  |[CSharp, VB]      |NY     |M     |\n",
      "|{Jen, Mary, Brown}    |[CSharp, VB]      |NY     |M     |\n",
      "|{Mike, Mary, Williams}|[Python, VB]      |OH     |M     |\n",
      "+----------------------+------------------+-------+------+\n",
      "\n"
     ]
    }
   ],
   "source": [
    "df.show(truncate =False)"
   ]
  },
  {
   "cell_type": "markdown",
   "id": "60217e72-3e12-41cc-824c-9bf0a41829ff",
   "metadata": {},
   "source": [
    "## 1. DataFrame filter() with Column Condition"
   ]
  },
  {
   "cell_type": "code",
   "execution_count": 3,
   "id": "e3af573b-23f0-46bc-bfa1-cd59c209c3b9",
   "metadata": {},
   "outputs": [
    {
     "name": "stdout",
     "output_type": "stream",
     "text": [
      "+----------------------+------------------+-------+------+\n",
      "|Name                  |Languages         |Country|Gender|\n",
      "+----------------------+------------------+-------+------+\n",
      "|{James, , Smith}      |[Java, Scala, C++]|OH     |M     |\n",
      "|{Maria, Anne, Jones}  |[CSharp, VB]      |NY     |M     |\n",
      "|{Jen, Mary, Brown}    |[CSharp, VB]      |NY     |M     |\n",
      "|{Mike, Mary, Williams}|[Python, VB]      |OH     |M     |\n",
      "+----------------------+------------------+-------+------+\n",
      "\n"
     ]
    }
   ],
   "source": [
    "# returns the if gender is male\n",
    "df.filter(df.Gender == \"M\").show(truncate=False)"
   ]
  },
  {
   "cell_type": "code",
   "execution_count": 4,
   "id": "b1c93adc-61c6-4ec3-b92d-761fa3780967",
   "metadata": {
    "scrolled": true
   },
   "outputs": [
    {
     "name": "stdout",
     "output_type": "stream",
     "text": [
      "+----------------------+------------------+-------+------+\n",
      "|Name                  |Languages         |Country|Gender|\n",
      "+----------------------+------------------+-------+------+\n",
      "|{James, , Smith}      |[Java, Scala, C++]|OH     |M     |\n",
      "|{Julia, , Williams}   |[CSharp, VB]      |OH     |F     |\n",
      "|{Mike, Mary, Williams}|[Python, VB]      |OH     |M     |\n",
      "+----------------------+------------------+-------+------+\n",
      "\n"
     ]
    }
   ],
   "source": [
    "# returns the if country is \"OH\"\n",
    "df.filter(df.Country == \"OH\").show(truncate=False)"
   ]
  },
  {
   "cell_type": "code",
   "execution_count": 32,
   "id": "e801e7b6-966e-4627-a491-0f8e1b373ee0",
   "metadata": {
    "scrolled": true
   },
   "outputs": [
    {
     "name": "stdout",
     "output_type": "stream",
     "text": [
      "+--------------------+------------------+-------+------+\n",
      "|                Name|         Languages|Country|Gender|\n",
      "+--------------------+------------------+-------+------+\n",
      "|      {Anna, Rose, }|[Spark, Java, C++]|     NY|     F|\n",
      "|{Maria, Anne, Jones}|      [CSharp, VB]|     NY|     M|\n",
      "|  {Jen, Mary, Brown}|      [CSharp, VB]|     NY|     M|\n",
      "+--------------------+------------------+-------+------+\n",
      "\n"
     ]
    }
   ],
   "source": [
    "# not equal operator\n",
    "df.filter(~(df.Country == \"OH\")).show()\n",
    "# df.filter(df.Country != \"OH\").show()"
   ]
  },
  {
   "cell_type": "code",
   "execution_count": 33,
   "id": "7a0ce132-bb00-4953-a2b2-cd2224a654a9",
   "metadata": {},
   "outputs": [
    {
     "name": "stdout",
     "output_type": "stream",
     "text": [
      "+--------------------+------------------+-------+------+\n",
      "|                Name|         Languages|Country|Gender|\n",
      "+--------------------+------------------+-------+------+\n",
      "|    {James, , Smith}|[Java, Scala, C++]|     OH|     M|\n",
      "|{Maria, Anne, Jones}|      [CSharp, VB]|     NY|     M|\n",
      "|  {Jen, Mary, Brown}|      [CSharp, VB]|     NY|     M|\n",
      "|{Mike, Mary, Will...|      [Python, VB]|     OH|     M|\n",
      "+--------------------+------------------+-------+------+\n",
      "\n"
     ]
    }
   ],
   "source": [
    "# using the col function \n",
    "from pyspark.sql.functions import col\n",
    "df.filter(col(\"Gender\") == \"M\").show()"
   ]
  },
  {
   "cell_type": "markdown",
   "id": "81badb98-1e93-48ab-a454-d1bbaf7ae439",
   "metadata": {},
   "source": [
    "## 3. Filtering with SQL Expression"
   ]
  },
  {
   "cell_type": "code",
   "execution_count": 37,
   "id": "a7c85a93-9ab2-440d-bbad-cf2d5ab398b5",
   "metadata": {
    "scrolled": true
   },
   "outputs": [
    {
     "name": "stdout",
     "output_type": "stream",
     "text": [
      "+-------------------+------------------+-------+------+\n",
      "|               Name|         Languages|Country|Gender|\n",
      "+-------------------+------------------+-------+------+\n",
      "|     {Anna, Rose, }|[Spark, Java, C++]|     NY|     F|\n",
      "|{Julia, , Williams}|      [CSharp, VB]|     OH|     F|\n",
      "+-------------------+------------------+-------+------+\n",
      "\n"
     ]
    }
   ],
   "source": [
    "df.filter(\"Gender == 'F'\").show()"
   ]
  },
  {
   "cell_type": "code",
   "execution_count": 39,
   "id": "c11a67b2-452d-4fcd-a407-f95f0fe696b8",
   "metadata": {},
   "outputs": [
    {
     "name": "stdout",
     "output_type": "stream",
     "text": [
      "+-------------------+------------------+-------+------+\n",
      "|               Name|         Languages|Country|Gender|\n",
      "+-------------------+------------------+-------+------+\n",
      "|     {Anna, Rose, }|[Spark, Java, C++]|     NY|     F|\n",
      "|{Julia, , Williams}|      [CSharp, VB]|     OH|     F|\n",
      "+-------------------+------------------+-------+------+\n",
      "\n",
      "+-------------------+------------------+-------+------+\n",
      "|               Name|         Languages|Country|Gender|\n",
      "+-------------------+------------------+-------+------+\n",
      "|     {Anna, Rose, }|[Spark, Java, C++]|     NY|     F|\n",
      "|{Julia, , Williams}|      [CSharp, VB]|     OH|     F|\n",
      "+-------------------+------------------+-------+------+\n",
      "\n"
     ]
    }
   ],
   "source": [
    "# For not equal\n",
    "df.filter(\"Gender != 'M'\").show()\n",
    "df.filter(\"Gender <> 'M'\").show()"
   ]
  },
  {
   "cell_type": "markdown",
   "id": "7ca400b8-5e44-419a-90f9-7b2901a16114",
   "metadata": {},
   "source": [
    "## 4. PySpark Filter with Multiple Conditions"
   ]
  },
  {
   "cell_type": "code",
   "execution_count": 47,
   "id": "fff91721-1113-4def-b05e-43a48164af78",
   "metadata": {},
   "outputs": [
    {
     "name": "stdout",
     "output_type": "stream",
     "text": [
      "+----------------------+------------------+-------+------+\n",
      "|Name                  |Languages         |Country|Gender|\n",
      "+----------------------+------------------+-------+------+\n",
      "|{James, , Smith}      |[Java, Scala, C++]|OH     |M     |\n",
      "|{Mike, Mary, Williams}|[Python, VB]      |OH     |M     |\n",
      "+----------------------+------------------+-------+------+\n",
      "\n"
     ]
    }
   ],
   "source": [
    "df.filter((df.Country  == \"OH\") & (df.Gender  == \"M\")).show(truncate=False)"
   ]
  },
  {
   "cell_type": "code",
   "execution_count": 44,
   "id": "ecc942bb-243d-4935-a558-e3573947c2b5",
   "metadata": {},
   "outputs": [
    {
     "name": "stdout",
     "output_type": "stream",
     "text": [
      "+-------------------+------------------+-------+------+\n",
      "|               Name|         Languages|Country|Gender|\n",
      "+-------------------+------------------+-------+------+\n",
      "|     {Anna, Rose, }|[Spark, Java, C++]|     NY|     F|\n",
      "|{Julia, , Williams}|      [CSharp, VB]|     OH|     F|\n",
      "+-------------------+------------------+-------+------+\n",
      "\n"
     ]
    }
   ],
   "source": [
    "from pyspark.sql.functions import array_contains\n",
    "df.filter((\"Gender == 'F'\") or (array_contains(df.Languages,\"Python\"))).show()"
   ]
  },
  {
   "cell_type": "markdown",
   "id": "e7b606f2-0ee2-41f7-8576-6d1efa575e51",
   "metadata": {},
   "source": [
    "## 5. Filter Based on List Values"
   ]
  },
  {
   "cell_type": "code",
   "execution_count": 8,
   "id": "7ed15eab-7997-43fb-a612-9e96bb5d922f",
   "metadata": {},
   "outputs": [
    {
     "name": "stdout",
     "output_type": "stream",
     "text": [
      "+--------------------+------------------+-------+------+\n",
      "|                Name|         Languages|Country|Gender|\n",
      "+--------------------+------------------+-------+------+\n",
      "|    {James, , Smith}|[Java, Scala, C++]|     OH|     M|\n",
      "| {Julia, , Williams}|      [CSharp, VB]|     OH|     F|\n",
      "|{Mike, Mary, Will...|      [Python, VB]|     OH|     M|\n",
      "+--------------------+------------------+-------+------+\n",
      "\n"
     ]
    }
   ],
   "source": [
    "lst = [\"OH\",\"CA\"]\n",
    "df.filter(df.Country.isin(lst)).show()"
   ]
  },
  {
   "cell_type": "markdown",
   "id": "054e6586-d1c9-41ff-b0c4-b8eb5575827c",
   "metadata": {},
   "source": [
    "## 6. Filter Based on Starts With, Ends With, Contains"
   ]
  },
  {
   "cell_type": "code",
   "execution_count": 12,
   "id": "57a63399-22d9-49cb-bb07-1250b03b629a",
   "metadata": {},
   "outputs": [
    {
     "name": "stdout",
     "output_type": "stream",
     "text": [
      "+--------------------+------------------+-------+------+\n",
      "|                Name|         Languages|Country|Gender|\n",
      "+--------------------+------------------+-------+------+\n",
      "|    {James, , Smith}|[Java, Scala, C++]|     OH|     M|\n",
      "| {Julia, , Williams}|      [CSharp, VB]|     OH|     F|\n",
      "|{Mike, Mary, Will...|      [Python, VB]|     OH|     M|\n",
      "+--------------------+------------------+-------+------+\n",
      "\n"
     ]
    }
   ],
   "source": [
    "# startswith method\n",
    "df.filter(df.Country.startswith('O')).show()"
   ]
  },
  {
   "cell_type": "code",
   "execution_count": 13,
   "id": "423c8548-82cb-45ce-bbcb-da2b64d4798d",
   "metadata": {},
   "outputs": [
    {
     "name": "stdout",
     "output_type": "stream",
     "text": [
      "+--------------------+------------------+-------+------+\n",
      "|                Name|         Languages|Country|Gender|\n",
      "+--------------------+------------------+-------+------+\n",
      "|      {Anna, Rose, }|[Spark, Java, C++]|     NY|     F|\n",
      "|{Maria, Anne, Jones}|      [CSharp, VB]|     NY|     M|\n",
      "|  {Jen, Mary, Brown}|      [CSharp, VB]|     NY|     M|\n",
      "+--------------------+------------------+-------+------+\n",
      "\n"
     ]
    }
   ],
   "source": [
    "# endswith method\n",
    "df.filter(df.Country.endswith('Y')).show()"
   ]
  },
  {
   "cell_type": "code",
   "execution_count": 16,
   "id": "5555b481-3008-4d47-bd90-9a1423e45ca4",
   "metadata": {
    "scrolled": true
   },
   "outputs": [
    {
     "name": "stdout",
     "output_type": "stream",
     "text": [
      "+--------------------+------------------+-------+------+\n",
      "|                Name|         Languages|Country|Gender|\n",
      "+--------------------+------------------+-------+------+\n",
      "|      {Anna, Rose, }|[Spark, Java, C++]|     NY|     F|\n",
      "|{Maria, Anne, Jones}|      [CSharp, VB]|     NY|     M|\n",
      "|  {Jen, Mary, Brown}|      [CSharp, VB]|     NY|     M|\n",
      "+--------------------+------------------+-------+------+\n",
      "\n"
     ]
    }
   ],
   "source": [
    "# startswith method\n",
    "df.filter(df.Country.contains(\"N\")).show()"
   ]
  },
  {
   "cell_type": "markdown",
   "id": "34f476c9-2723-4ae0-821a-68df995e0baf",
   "metadata": {},
   "source": [
    "## 7. Filtering with Regular Expression"
   ]
  },
  {
   "cell_type": "code",
   "execution_count": 19,
   "id": "b08900f7-9bce-475f-a067-ca545fdc466e",
   "metadata": {},
   "outputs": [
    {
     "name": "stdout",
     "output_type": "stream",
     "text": [
      "+---+----------+\n",
      "| id|      name|\n",
      "+---+----------+\n",
      "|  5|Rames rose|\n",
      "+---+----------+\n",
      "\n",
      "+---+------------+\n",
      "| id|        name|\n",
      "+---+------------+\n",
      "|  2|Michael Rose|\n",
      "|  4|  Rames Rose|\n",
      "|  5|  Rames rose|\n",
      "+---+------------+\n",
      "\n"
     ]
    }
   ],
   "source": [
    "data2 = [(2,\"Michael Rose\"),(3,\"Robert Williams\"),\n",
    "     (4,\"Rames Rose\"),(5,\"Rames rose\")\n",
    "  ]\n",
    "df2 = spark.createDataFrame(data = data2, schema = [\"id\",\"name\"])\n",
    "\n",
    "# like - SQL LIKE pattern\n",
    "df2.filter(df2.name.like(\"%rose%\")).show()\n",
    "\n",
    "\n",
    "# rlike - SQL RLIKE pattern (LIKE with Regex)\n",
    "# This check case insensitive\n",
    "df2.filter(df2.name.rlike(\"(?i)^*rose$\")).show()\n"
   ]
  },
  {
   "cell_type": "markdown",
   "id": "e3192216-80b6-4f36-ac84-689ad2be2ba9",
   "metadata": {},
   "source": [
    "## 8. Filtering Array column"
   ]
  },
  {
   "cell_type": "code",
   "execution_count": 20,
   "id": "249c6e0e-a3ad-4197-afe1-7cc7f2f329cb",
   "metadata": {},
   "outputs": [
    {
     "name": "stdout",
     "output_type": "stream",
     "text": [
      "+--------------------+------------+-------+------+\n",
      "|                Name|   Languages|Country|Gender|\n",
      "+--------------------+------------+-------+------+\n",
      "|{Mike, Mary, Will...|[Python, VB]|     OH|     M|\n",
      "+--------------------+------------+-------+------+\n",
      "\n"
     ]
    }
   ],
   "source": [
    "from pyspark.sql.functions import array_contains\n",
    "df.filter(array_contains(df.Languages,\"Python\")).show()"
   ]
  },
  {
   "cell_type": "code",
   "execution_count": 25,
   "id": "ff2549c7-e93e-4325-9dcf-a11854669791",
   "metadata": {},
   "outputs": [
    {
     "name": "stdout",
     "output_type": "stream",
     "text": [
      "+----------------+------------------+-------+------+\n",
      "|            Name|         Languages|Country|Gender|\n",
      "+----------------+------------------+-------+------+\n",
      "|{James, , Smith}|[Java, Scala, C++]|     OH|     M|\n",
      "|  {Anna, Rose, }|[Spark, Java, C++]|     NY|     F|\n",
      "+----------------+------------------+-------+------+\n",
      "\n"
     ]
    }
   ],
   "source": [
    "from pyspark.sql.functions import array_contains\n",
    "df.filter(array_contains(df.Languages,\"Java\")).show()"
   ]
  },
  {
   "cell_type": "markdown",
   "id": "b20c7ac6-1712-4095-a89d-ea285b47f922",
   "metadata": {},
   "source": [
    "## 9. Filtering on Nested Struct columns"
   ]
  },
  {
   "cell_type": "code",
   "execution_count": 29,
   "id": "8e879072-a734-4e22-bb0b-c9f807d639f2",
   "metadata": {},
   "outputs": [
    {
     "name": "stdout",
     "output_type": "stream",
     "text": [
      "root\n",
      " |-- Name: struct (nullable = true)\n",
      " |    |-- Firstname: string (nullable = true)\n",
      " |    |-- Middlename: string (nullable = true)\n",
      " |    |-- Lastname: string (nullable = true)\n",
      " |-- Languages: array (nullable = true)\n",
      " |    |-- element: string (containsNull = true)\n",
      " |-- Country: string (nullable = true)\n",
      " |-- Gender: string (nullable = true)\n",
      "\n"
     ]
    }
   ],
   "source": [
    "df.printSchema()"
   ]
  },
  {
   "cell_type": "code",
   "execution_count": 30,
   "id": "5d086742-f270-442f-b4a6-af8fc4070970",
   "metadata": {},
   "outputs": [
    {
     "name": "stdout",
     "output_type": "stream",
     "text": [
      "+----------------------+------------+-------+------+\n",
      "|Name                  |Languages   |Country|Gender|\n",
      "+----------------------+------------+-------+------+\n",
      "|{Julia, , Williams}   |[CSharp, VB]|OH     |F     |\n",
      "|{Mike, Mary, Williams}|[Python, VB]|OH     |M     |\n",
      "+----------------------+------------+-------+------+\n",
      "\n"
     ]
    }
   ],
   "source": [
    "# Struct condition\n",
    "df.filter(df.Name.Lastname == \"Williams\") \\\n",
    "    .show(truncate=False) \n"
   ]
  },
  {
   "cell_type": "code",
   "execution_count": null,
   "id": "ba1b4dbe-0d7f-4685-bd42-4b5f532259bb",
   "metadata": {},
   "outputs": [],
   "source": []
  }
 ],
 "metadata": {
  "kernelspec": {
   "display_name": "Python 3 (ipykernel)",
   "language": "python",
   "name": "python3"
  },
  "language_info": {
   "codemirror_mode": {
    "name": "ipython",
    "version": 3
   },
   "file_extension": ".py",
   "mimetype": "text/x-python",
   "name": "python",
   "nbconvert_exporter": "python",
   "pygments_lexer": "ipython3",
   "version": "3.11.5"
  }
 },
 "nbformat": 4,
 "nbformat_minor": 5
}
