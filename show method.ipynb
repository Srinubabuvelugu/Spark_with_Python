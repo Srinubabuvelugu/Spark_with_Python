{
 "cells": [
  {
   "cell_type": "code",
   "execution_count": 4,
   "id": "d0553dad-3bf7-4667-a569-52c1b6b465f3",
   "metadata": {},
   "outputs": [
    {
     "name": "stdout",
     "output_type": "stream",
     "text": [
      "<pyspark.sql.session.SparkSession object at 0x00000249C5243D50>\n"
     ]
    }
   ],
   "source": [
    "from pyspark.sql import SparkSession\n",
    "spark = SparkSession.builder.master('local[2]').appName(\"Spark_Exe\").getOrCreate()\n",
    "print(spark)\n",
    "data = [('James','','Smith','1991-04-01','M',3000,'jfghsrsvstejxfmdhcjmxdgncg'),\n",
    "  ('Michael','Rose','','2000-05-19','M',4000,'dythszacfhverhznvbgh'),\n",
    "  ('Robert','','Williams','1978-09-05','M',4000,'efbvhdzbfivblaenlfhb'),\n",
    "  ('Maria','Anne','Jones','1967-12-01','F',4000,'sfhbvaaLbrlijWGLFBSlKJV'),\n",
    "  ('Jen','Mary','Brown','1980-02-17','F',-1,'ERHGALJFHBVLJAEBUABVJ')\n",
    "]\n",
    "\n",
    "columns = [\"firstname\",\"middlename\",\"lastname\",\"dob\",\"gender\",\"salary\",\"comment\"] \n",
    "df = spark.createDataFrame(data = data,schema = columns)\n"
   ]
  },
  {
   "cell_type": "code",
   "execution_count": 5,
   "id": "8ec868b3-d344-4ab3-b0cd-e943499f3421",
   "metadata": {},
   "outputs": [
    {
     "name": "stdout",
     "output_type": "stream",
     "text": [
      "Help on method show in module pyspark.sql.dataframe:\n",
      "\n",
      "show(n: int = 20, truncate: Union[bool, int] = True, vertical: bool = False) -> None method of pyspark.sql.dataframe.DataFrame instance\n",
      "    Prints the first ``n`` rows to the console.\n",
      "    \n",
      "    .. versionadded:: 1.3.0\n",
      "    \n",
      "    .. versionchanged:: 3.4.0\n",
      "        Supports Spark Connect.\n",
      "    \n",
      "    Parameters\n",
      "    ----------\n",
      "    n : int, optional\n",
      "        Number of rows to show.\n",
      "    truncate : bool or int, optional\n",
      "        If set to ``True``, truncate strings longer than 20 chars by default.\n",
      "        If set to a number greater than one, truncates long strings to length ``truncate``\n",
      "        and align cells right.\n",
      "    vertical : bool, optional\n",
      "        If set to ``True``, print output rows vertically (one line\n",
      "        per column value).\n",
      "    \n",
      "    Examples\n",
      "    --------\n",
      "    >>> df = spark.createDataFrame([\n",
      "    ...     (14, \"Tom\"), (23, \"Alice\"), (16, \"Bob\")], [\"age\", \"name\"])\n",
      "    \n",
      "    Show only top 2 rows.\n",
      "    \n",
      "    >>> df.show(2)\n",
      "    +---+-----+\n",
      "    |age| name|\n",
      "    +---+-----+\n",
      "    | 14|  Tom|\n",
      "    | 23|Alice|\n",
      "    +---+-----+\n",
      "    only showing top 2 rows\n",
      "    \n",
      "    Show :class:`DataFrame` where the maximum number of characters is 3.\n",
      "    \n",
      "    >>> df.show(truncate=3)\n",
      "    +---+----+\n",
      "    |age|name|\n",
      "    +---+----+\n",
      "    | 14| Tom|\n",
      "    | 23| Ali|\n",
      "    | 16| Bob|\n",
      "    +---+----+\n",
      "    \n",
      "    Show :class:`DataFrame` vertically.\n",
      "    \n",
      "    >>> df.show(vertical=True)\n",
      "    -RECORD 0-----\n",
      "    age  | 14\n",
      "    name | Tom\n",
      "    -RECORD 1-----\n",
      "    age  | 23\n",
      "    name | Alice\n",
      "    -RECORD 2-----\n",
      "    age  | 16\n",
      "    name | Bob\n",
      "\n"
     ]
    }
   ],
   "source": [
    "help(df.show)"
   ]
  },
  {
   "cell_type": "code",
   "execution_count": 6,
   "id": "1e2b750d-eca3-4373-b2b2-e77a4533a917",
   "metadata": {},
   "outputs": [
    {
     "name": "stdout",
     "output_type": "stream",
     "text": [
      "+---------+----------+--------+----------+------+------+--------------------+\n",
      "|firstname|middlename|lastname|       dob|gender|salary|             comment|\n",
      "+---------+----------+--------+----------+------+------+--------------------+\n",
      "|    James|          |   Smith|1991-04-01|     M|  3000|jfghsrsvstejxfmdh...|\n",
      "|  Michael|      Rose|        |2000-05-19|     M|  4000|dythszacfhverhznvbgh|\n",
      "|   Robert|          |Williams|1978-09-05|     M|  4000|efbvhdzbfivblaenlfhb|\n",
      "|    Maria|      Anne|   Jones|1967-12-01|     F|  4000|sfhbvaaLbrlijWGLF...|\n",
      "|      Jen|      Mary|   Brown|1980-02-17|     F|    -1|ERHGALJFHBVLJAEBU...|\n",
      "+---------+----------+--------+----------+------+------+--------------------+\n",
      "\n"
     ]
    }
   ],
   "source": [
    "# it will display 20 characters of each column values\n",
    "# to get the default 20 rows of data\n",
    "df.show() "
   ]
  },
  {
   "cell_type": "code",
   "execution_count": 7,
   "id": "a7229f0d-7119-44aa-aa0f-6b7f5c3fb290",
   "metadata": {},
   "outputs": [
    {
     "name": "stdout",
     "output_type": "stream",
     "text": [
      "+---------+----------+--------+-----+------+------+-------+\n",
      "|firstname|middlename|lastname|  dob|gender|salary|comment|\n",
      "+---------+----------+--------+-----+------+------+-------+\n",
      "|    James|          |   Smith|19...|     M|  3000|  jf...|\n",
      "|    Mi...|      Rose|        |20...|     M|  4000|  dy...|\n",
      "|    Ro...|          |   Wi...|19...|     M|  4000|  ef...|\n",
      "|    Maria|      Anne|   Jones|19...|     F|  4000|  sf...|\n",
      "|      Jen|      Mary|   Brown|19...|     F|    -1|  ER...|\n",
      "+---------+----------+--------+-----+------+------+-------+\n",
      "\n"
     ]
    }
   ],
   "source": [
    "df.show(truncate=5)  # it will display 5 characters of each column values"
   ]
  },
  {
   "cell_type": "code",
   "execution_count": 8,
   "id": "3375fbdf-74f2-4607-a93b-4a440c03bde7",
   "metadata": {},
   "outputs": [
    {
     "name": "stdout",
     "output_type": "stream",
     "text": [
      "+---------+----------+--------+----------+------+------+--------------------------+\n",
      "|firstname|middlename|lastname|dob       |gender|salary|comment                   |\n",
      "+---------+----------+--------+----------+------+------+--------------------------+\n",
      "|James    |          |Smith   |1991-04-01|M     |3000  |jfghsrsvstejxfmdhcjmxdgncg|\n",
      "|Michael  |Rose      |        |2000-05-19|M     |4000  |dythszacfhverhznvbgh      |\n",
      "|Robert   |          |Williams|1978-09-05|M     |4000  |efbvhdzbfivblaenlfhb      |\n",
      "|Maria    |Anne      |Jones   |1967-12-01|F     |4000  |sfhbvaaLbrlijWGLFBSlKJV   |\n",
      "|Jen      |Mary      |Brown   |1980-02-17|F     |-1    |ERHGALJFHBVLJAEBUABVJ     |\n",
      "+---------+----------+--------+----------+------+------+--------------------------+\n",
      "\n"
     ]
    }
   ],
   "source": [
    "# if truncate is False then it will print complete value of each column values\n",
    "df.show(truncate=False)  "
   ]
  },
  {
   "cell_type": "code",
   "execution_count": 10,
   "id": "f717dc57-439a-4bf3-aa28-b5643306f9ed",
   "metadata": {},
   "outputs": [
    {
     "name": "stdout",
     "output_type": "stream",
     "text": [
      "-RECORD 0--------------------------------\n",
      " firstname  | James                      \n",
      " middlename |                            \n",
      " lastname   | Smith                      \n",
      " dob        | 1991-04-01                 \n",
      " gender     | M                          \n",
      " salary     | 3000                       \n",
      " comment    | jfghsrsvstejxfmdhcjmxdgncg \n",
      "-RECORD 1--------------------------------\n",
      " firstname  | Michael                    \n",
      " middlename | Rose                       \n",
      " lastname   |                            \n",
      " dob        | 2000-05-19                 \n",
      " gender     | M                          \n",
      " salary     | 4000                       \n",
      " comment    | dythszacfhverhznvbgh       \n",
      "-RECORD 2--------------------------------\n",
      " firstname  | Robert                     \n",
      " middlename |                            \n",
      " lastname   | Williams                   \n",
      " dob        | 1978-09-05                 \n",
      " gender     | M                          \n",
      " salary     | 4000                       \n",
      " comment    | efbvhdzbfivblaenlfhb       \n",
      "-RECORD 3--------------------------------\n",
      " firstname  | Maria                      \n",
      " middlename | Anne                       \n",
      " lastname   | Jones                      \n",
      " dob        | 1967-12-01                 \n",
      " gender     | F                          \n",
      " salary     | 4000                       \n",
      " comment    | sfhbvaaLbrlijWGLFBSlKJV    \n",
      "-RECORD 4--------------------------------\n",
      " firstname  | Jen                        \n",
      " middlename | Mary                       \n",
      " lastname   | Brown                      \n",
      " dob        | 1980-02-17                 \n",
      " gender     | F                          \n",
      " salary     | -1                         \n",
      " comment    | ERHGALJFHBVLJAEBUABVJ      \n",
      "\n"
     ]
    }
   ],
   "source": [
    "# set all the data vertically by using the vertical parameter as True\n",
    "df.show(truncate=False,vertical =True)  "
   ]
  },
  {
   "cell_type": "code",
   "execution_count": 12,
   "id": "0e051389-9d5d-45cc-bba1-3123f11f76a6",
   "metadata": {},
   "outputs": [
    {
     "name": "stdout",
     "output_type": "stream",
     "text": [
      "+---------+----------+--------+----------+------+------+--------------------------+\n",
      "|firstname|middlename|lastname|dob       |gender|salary|comment                   |\n",
      "+---------+----------+--------+----------+------+------+--------------------------+\n",
      "|James    |          |Smith   |1991-04-01|M     |3000  |jfghsrsvstejxfmdhcjmxdgncg|\n",
      "|Michael  |Rose      |        |2000-05-19|M     |4000  |dythszacfhverhznvbgh      |\n",
      "|Robert   |          |Williams|1978-09-05|M     |4000  |efbvhdzbfivblaenlfhb      |\n",
      "+---------+----------+--------+----------+------+------+--------------------------+\n",
      "only showing top 3 rows\n",
      "\n"
     ]
    }
   ],
   "source": [
    "# n is the number of rows you want to show in display\n",
    "# it will dispaly the 3 rows of data\n",
    "df.show(3,truncate=False)"
   ]
  },
  {
   "cell_type": "code",
   "execution_count": null,
   "id": "9d7fdabf-1963-4a81-9dba-641a04afd4d0",
   "metadata": {},
   "outputs": [],
   "source": []
  }
 ],
 "metadata": {
  "kernelspec": {
   "display_name": "Python 3 (ipykernel)",
   "language": "python",
   "name": "python3"
  },
  "language_info": {
   "codemirror_mode": {
    "name": "ipython",
    "version": 3
   },
   "file_extension": ".py",
   "mimetype": "text/x-python",
   "name": "python",
   "nbconvert_exporter": "python",
   "pygments_lexer": "ipython3",
   "version": "3.11.5"
  }
 },
 "nbformat": 4,
 "nbformat_minor": 5
}
