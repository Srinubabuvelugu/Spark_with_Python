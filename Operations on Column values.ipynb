{
 "cells": [
  {
   "cell_type": "code",
   "execution_count": 2,
   "id": "49c0c59a-3149-4f60-b61a-487fcf32d9fd",
   "metadata": {},
   "outputs": [
    {
     "name": "stdout",
     "output_type": "stream",
     "text": [
      "root\n",
      " |-- firstname: string (nullable = true)\n",
      " |-- middlename: string (nullable = true)\n",
      " |-- lastname: string (nullable = true)\n",
      " |-- dob: string (nullable = true)\n",
      " |-- gender: string (nullable = true)\n",
      " |-- salary: long (nullable = true)\n",
      "\n",
      "+---------+----------+--------+----------+------+------+\n",
      "|firstname|middlename|lastname|       dob|gender|salary|\n",
      "+---------+----------+--------+----------+------+------+\n",
      "|    James|          |   Smith|1991-04-01|     M|  3000|\n",
      "|  Michael|      Rose|        |2000-05-19|     M|  4000|\n",
      "|   Robert|          |Williams|1978-09-05|     M|  4000|\n",
      "|    Maria|      Anne|   Jones|1967-12-01|     F|  4000|\n",
      "|      Jen|      Mary|   Brown|1980-02-17|     F|    -1|\n",
      "+---------+----------+--------+----------+------+------+\n",
      "\n"
     ]
    }
   ],
   "source": [
    "data = [('James','','Smith','1991-04-01','M',3000),\n",
    "  ('Michael','Rose','','2000-05-19','M',4000),\n",
    "  ('Robert','','Williams','1978-09-05','M',4000),\n",
    "  ('Maria','Anne','Jones','1967-12-01','F',4000),\n",
    "  ('Jen','Mary','Brown','1980-02-17','F',-1)\n",
    "]\n",
    "\n",
    "columns = [\"firstname\",\"middlename\",\"lastname\",\"dob\",\"gender\",\"salary\"]\n",
    "from pyspark.sql import SparkSession\n",
    "spark = SparkSession.builder.appName(\"Spark_EX\").getOrCreate()\n",
    "df = spark.createDataFrame(data = data, schema = columns)\n",
    "df.printSchema()\n",
    "df.show()"
   ]
  },
  {
   "cell_type": "markdown",
   "id": "561f16c0-b86e-49df-91c5-67c7cb1086fe",
   "metadata": {},
   "source": [
    "### Change DataType using PySpark withColumn()"
   ]
  },
  {
   "cell_type": "code",
   "execution_count": 6,
   "id": "086d970a-4c27-403b-89ab-fed8338e2df9",
   "metadata": {},
   "outputs": [
    {
     "name": "stdout",
     "output_type": "stream",
     "text": [
      "root\n",
      " |-- firstname: string (nullable = true)\n",
      " |-- middlename: string (nullable = true)\n",
      " |-- lastname: string (nullable = true)\n",
      " |-- dob: string (nullable = true)\n",
      " |-- gender: string (nullable = true)\n",
      " |-- salary: integer (nullable = true)\n",
      "\n"
     ]
    }
   ],
   "source": [
    "from pyspark.sql.functions import *\n",
    "df.withColumn(\"salary\",col(\"salary\").cast(\"integer\")).printSchema()"
   ]
  },
  {
   "cell_type": "markdown",
   "id": "0ae05ba6-64bc-4753-9403-8321a10a6842",
   "metadata": {},
   "source": [
    "### Update The Value of an Existing Column\n",
    "- Syntax<br>\r\n",
    "DataFrame.withColumn(colName, col)"
   ]
  },
  {
   "cell_type": "code",
   "execution_count": 9,
   "id": "c2a45952-5e38-466f-a8ee-0080396a0983",
   "metadata": {},
   "outputs": [
    {
     "name": "stdout",
     "output_type": "stream",
     "text": [
      "+---------+----------+--------+----------+------+------+----+\n",
      "|firstname|middlename|lastname|       dob|gender|salary| Sal|\n",
      "+---------+----------+--------+----------+------+------+----+\n",
      "|    James|          |   Smith|1991-04-01|     M|  3000|3100|\n",
      "|  Michael|      Rose|        |2000-05-19|     M|  4000|4100|\n",
      "|   Robert|          |Williams|1978-09-05|     M|  4000|4100|\n",
      "|    Maria|      Anne|   Jones|1967-12-01|     F|  4000|4100|\n",
      "|      Jen|      Mary|   Brown|1980-02-17|     F|    -1|  99|\n",
      "+---------+----------+--------+----------+------+------+----+\n",
      "\n"
     ]
    }
   ],
   "source": [
    "\n",
    "df.withColumn(\"Sal\",col(\"salary\")+100).show()"
   ]
  },
  {
   "cell_type": "code",
   "execution_count": 11,
   "id": "b67285fd-9927-45b5-bea3-4ab12b65d550",
   "metadata": {},
   "outputs": [
    {
     "name": "stdout",
     "output_type": "stream",
     "text": [
      "+---------+----------+--------+----------+------+------+\n",
      "|firstname|middlename|lastname|       dob|gender|salary|\n",
      "+---------+----------+--------+----------+------+------+\n",
      "|    James|          |   Smith|1991-04-01|     M|  3300|\n",
      "|  Michael|      Rose|        |2000-05-19|     M|  4300|\n",
      "|   Robert|          |Williams|1978-09-05|     M|  4300|\n",
      "|    Maria|      Anne|   Jones|1967-12-01|     F|  4300|\n",
      "|      Jen|      Mary|   Brown|1980-02-17|     F|   299|\n",
      "+---------+----------+--------+----------+------+------+\n",
      "\n"
     ]
    }
   ],
   "source": [
    "df2 = df.withColumn(\"salary\",df.salary+300)\n",
    "df2.show()"
   ]
  },
  {
   "cell_type": "code",
   "execution_count": 19,
   "id": "a01e1a24-dde7-4d67-ad35-4a7962a434a6",
   "metadata": {},
   "outputs": [
    {
     "name": "stdout",
     "output_type": "stream",
     "text": [
      "+---------+----------+--------+----------+------+------+\n",
      "|firstname|middlename|lastname|       dob|gender|salary|\n",
      "+---------+----------+--------+----------+------+------+\n",
      "|    James|          |   Smith|1991-04-01|  Male|  3000|\n",
      "|  Michael|      Rose|        |2000-05-19|  Male|  4000|\n",
      "|   Robert|          |Williams|1978-09-05|  Male|  4000|\n",
      "|    Maria|      Anne|   Jones|1967-12-01|Female|  4000|\n",
      "|      Jen|      Mary|   Brown|1980-02-17|Female|    -1|\n",
      "+---------+----------+--------+----------+------+------+\n",
      "\n"
     ]
    }
   ],
   "source": [
    "df3 = df.withColumn(\"gender\", when(df.gender =='M',\"Male\").when(df.gender == \"F\",\"Female\").otherwise(df.gender))\n",
    "df3.show()"
   ]
  },
  {
   "cell_type": "code",
   "execution_count": null,
   "id": "40549108-495c-47f0-a79e-302e5fe5c10c",
   "metadata": {},
   "outputs": [],
   "source": []
  }
 ],
 "metadata": {
  "kernelspec": {
   "display_name": "Python 3 (ipykernel)",
   "language": "python",
   "name": "python3"
  },
  "language_info": {
   "codemirror_mode": {
    "name": "ipython",
    "version": 3
   },
   "file_extension": ".py",
   "mimetype": "text/x-python",
   "name": "python",
   "nbconvert_exporter": "python",
   "pygments_lexer": "ipython3",
   "version": "3.11.5"
  }
 },
 "nbformat": 4,
 "nbformat_minor": 5
}
